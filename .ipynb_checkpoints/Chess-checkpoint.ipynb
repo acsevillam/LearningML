{
 "cells": [
  {
   "cell_type": "code",
   "execution_count": null,
   "metadata": {
    "ExecuteTime": {
     "end_time": "2020-04-16T18:11:07.808564Z",
     "start_time": "2020-04-16T18:11:07.787232Z"
    }
   },
   "outputs": [],
   "source": [
    "from IPython.display import clear_output\n",
    "import numpy as np\n",
    "import matplotlib.pylab as plt"
   ]
  },
  {
   "cell_type": "code",
   "execution_count": null,
   "metadata": {
    "ExecuteTime": {
     "end_time": "2020-04-16T18:11:25.788181Z",
     "start_time": "2020-04-16T18:11:10.469876Z"
    }
   },
   "outputs": [],
   "source": [
    "def possible(x,y,board):\n",
    "    if x<0 or y<0 or x>=N or y>=M:\n",
    "        return False\n",
    "    elif x+y*N in board:\n",
    "        return False\n",
    "    else:\n",
    "        return True\n",
    "def move(x,y,board):\n",
    "    option={1:[1,-2],\n",
    "             2:[-1,-2],\n",
    "             3:[-2,1],\n",
    "             4:[-2,-1],\n",
    "             5:[-1,2],\n",
    "             6:[1,2],\n",
    "             7:[2,-1],\n",
    "             8:[2,1]}\n",
    "    i=0\n",
    "    while True:\n",
    "        i+=1\n",
    "        index=np.random.randint(1,9)\n",
    "        dx=x+option[index][0]\n",
    "        dy=y+option[index][1]\n",
    "        if possible(dx,dy,board):\n",
    "            break\n",
    "        elif i>20:\n",
    "                board=[]\n",
    "    print(possible(dx,dy,board),dx,dy)\n",
    "    board.append(dx+N*dy)\n",
    "    return dx,dy,board\n",
    "def print_board(board):\n",
    "    x=np.zeros(N*M)\n",
    "    for i in board:\n",
    "        x[i]=1.\n",
    "    x[board[-1]]=2\n",
    "    x_plot=x.reshape((N,M))\n",
    "    plt.imshow(x_plot)\n",
    "    plt.show()\n",
    "\n",
    "N=8\n",
    "M=8\n",
    "x,y,board=0,0,[0]\n",
    "while len(board)<N*M:\n",
    "    x,y,board=move(x,y,board)\n",
    "    print(board,len(board))\n",
    "    clear_output(wait=True)\n",
    "    print_board(board)"
   ]
  },
  {
   "cell_type": "code",
   "execution_count": null,
   "metadata": {},
   "outputs": [],
   "source": []
  }
 ],
 "metadata": {
  "kernelspec": {
   "display_name": "Python 3",
   "language": "python",
   "name": "python3"
  },
  "language_info": {
   "codemirror_mode": {
    "name": "ipython",
    "version": 3
   },
   "file_extension": ".py",
   "mimetype": "text/x-python",
   "name": "python",
   "nbconvert_exporter": "python",
   "pygments_lexer": "ipython3",
   "version": "3.7.6"
  }
 },
 "nbformat": 4,
 "nbformat_minor": 2
}
