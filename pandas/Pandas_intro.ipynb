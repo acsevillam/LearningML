{
 "cells": [
  {
   "cell_type": "code",
   "execution_count": 1,
   "metadata": {
    "ExecuteTime": {
     "end_time": "2020-06-18T15:18:03.566386Z",
     "start_time": "2020-06-18T15:17:56.994857Z"
    }
   },
   "outputs": [],
   "source": [
    "import pandas as pd"
   ]
  },
  {
   "cell_type": "markdown",
   "metadata": {},
   "source": [
    "[link to pandas](https://pandas.pydata.org/)"
   ]
  },
  {
   "cell_type": "code",
   "execution_count": 9,
   "metadata": {
    "ExecuteTime": {
     "end_time": "2020-06-18T15:18:18.542093Z",
     "start_time": "2020-06-18T15:18:18.287145Z"
    }
   },
   "outputs": [],
   "source": [
    "import numpy as np\n",
    "import matplotlib.pylab as plt"
   ]
  },
  {
   "cell_type": "code",
   "execution_count": 2,
   "metadata": {
    "ExecuteTime": {
     "end_time": "2020-06-18T15:18:03.572203Z",
     "start_time": "2020-06-18T15:18:03.568974Z"
    }
   },
   "outputs": [],
   "source": [
    "data=pd.Series([2,5,7,9.])"
   ]
  },
  {
   "cell_type": "code",
   "execution_count": 3,
   "metadata": {
    "ExecuteTime": {
     "end_time": "2020-06-18T15:18:03.588159Z",
     "start_time": "2020-06-18T15:18:03.575760Z"
    }
   },
   "outputs": [
    {
     "data": {
      "text/plain": [
       "0    2.0\n",
       "1    5.0\n",
       "2    7.0\n",
       "3    9.0\n",
       "dtype: float64"
      ]
     },
     "execution_count": 3,
     "metadata": {},
     "output_type": "execute_result"
    }
   ],
   "source": [
    "data"
   ]
  },
  {
   "cell_type": "code",
   "execution_count": 4,
   "metadata": {
    "ExecuteTime": {
     "end_time": "2020-06-18T15:18:03.596928Z",
     "start_time": "2020-06-18T15:18:03.591120Z"
    }
   },
   "outputs": [
    {
     "data": {
      "text/plain": [
       "array([2., 5., 7., 9.])"
      ]
     },
     "execution_count": 4,
     "metadata": {},
     "output_type": "execute_result"
    }
   ],
   "source": [
    "data.values"
   ]
  },
  {
   "cell_type": "code",
   "execution_count": 5,
   "metadata": {
    "ExecuteTime": {
     "end_time": "2020-06-18T15:18:03.606369Z",
     "start_time": "2020-06-18T15:18:03.600731Z"
    }
   },
   "outputs": [
    {
     "data": {
      "text/plain": [
       "RangeIndex(start=0, stop=4, step=1)"
      ]
     },
     "execution_count": 5,
     "metadata": {},
     "output_type": "execute_result"
    }
   ],
   "source": [
    "data.index"
   ]
  },
  {
   "cell_type": "code",
   "execution_count": 6,
   "metadata": {
    "ExecuteTime": {
     "end_time": "2020-06-18T15:18:03.616159Z",
     "start_time": "2020-06-18T15:18:03.609798Z"
    }
   },
   "outputs": [
    {
     "data": {
      "text/plain": [
       "2.0"
      ]
     },
     "execution_count": 6,
     "metadata": {},
     "output_type": "execute_result"
    }
   ],
   "source": [
    "data[0]"
   ]
  },
  {
   "cell_type": "code",
   "execution_count": 7,
   "metadata": {
    "ExecuteTime": {
     "end_time": "2020-06-18T15:18:03.629811Z",
     "start_time": "2020-06-18T15:18:03.619876Z"
    }
   },
   "outputs": [
    {
     "data": {
      "text/plain": [
       "1    5.0\n",
       "2    7.0\n",
       "dtype: float64"
      ]
     },
     "execution_count": 7,
     "metadata": {},
     "output_type": "execute_result"
    }
   ],
   "source": [
    "data[1:3]"
   ]
  },
  {
   "cell_type": "code",
   "execution_count": 8,
   "metadata": {
    "ExecuteTime": {
     "end_time": "2020-06-18T15:18:03.646404Z",
     "start_time": "2020-06-18T15:18:03.638156Z"
    }
   },
   "outputs": [
    {
     "data": {
      "text/plain": [
       "RangeIndex(start=1, stop=4, step=1)"
      ]
     },
     "execution_count": 8,
     "metadata": {},
     "output_type": "execute_result"
    }
   ],
   "source": [
    "data.index[1:4]"
   ]
  },
  {
   "cell_type": "code",
   "execution_count": 13,
   "metadata": {
    "ExecuteTime": {
     "end_time": "2020-06-18T15:19:41.250566Z",
     "start_time": "2020-06-18T15:19:41.246401Z"
    }
   },
   "outputs": [
    {
     "data": {
      "text/plain": [
       "1"
      ]
     },
     "execution_count": 13,
     "metadata": {},
     "output_type": "execute_result"
    }
   ],
   "source": [
    "data.index[1]"
   ]
  },
  {
   "cell_type": "code",
   "execution_count": 33,
   "metadata": {
    "ExecuteTime": {
     "end_time": "2020-06-18T15:22:49.179101Z",
     "start_time": "2020-06-18T15:22:49.174935Z"
    }
   },
   "outputs": [],
   "source": [
    "data=pd.Series([0.1,0.2,0.3,0.4,0.5],index=['a','z','c','d','b'])"
   ]
  },
  {
   "cell_type": "code",
   "execution_count": 34,
   "metadata": {
    "ExecuteTime": {
     "end_time": "2020-06-18T15:22:50.291667Z",
     "start_time": "2020-06-18T15:22:50.285639Z"
    }
   },
   "outputs": [
    {
     "data": {
      "text/plain": [
       "a    0.1\n",
       "z    0.2\n",
       "c    0.3\n",
       "d    0.4\n",
       "b    0.5\n",
       "dtype: float64"
      ]
     },
     "execution_count": 34,
     "metadata": {},
     "output_type": "execute_result"
    }
   ],
   "source": [
    "data"
   ]
  },
  {
   "cell_type": "code",
   "execution_count": 35,
   "metadata": {
    "ExecuteTime": {
     "end_time": "2020-06-18T15:22:50.539538Z",
     "start_time": "2020-06-18T15:22:50.536574Z"
    }
   },
   "outputs": [],
   "source": [
    "search=['a','b','c','d']"
   ]
  },
  {
   "cell_type": "code",
   "execution_count": 45,
   "metadata": {
    "ExecuteTime": {
     "end_time": "2020-06-18T15:24:45.249358Z",
     "start_time": "2020-06-18T15:24:45.245184Z"
    }
   },
   "outputs": [],
   "source": [
    "data=data[data.index.sort_values()]"
   ]
  },
  {
   "cell_type": "code",
   "execution_count": 46,
   "metadata": {
    "ExecuteTime": {
     "end_time": "2020-06-18T15:24:46.437183Z",
     "start_time": "2020-06-18T15:24:46.431632Z"
    }
   },
   "outputs": [
    {
     "data": {
      "text/plain": [
       "a    0.1\n",
       "b    0.5\n",
       "c    0.3\n",
       "d    0.4\n",
       "z    0.2\n",
       "dtype: float64"
      ]
     },
     "execution_count": 46,
     "metadata": {},
     "output_type": "execute_result"
    }
   ],
   "source": [
    "data"
   ]
  },
  {
   "cell_type": "code",
   "execution_count": 63,
   "metadata": {
    "ExecuteTime": {
     "end_time": "2020-06-18T15:27:58.105115Z",
     "start_time": "2020-06-18T15:27:58.102159Z"
    }
   },
   "outputs": [],
   "source": [
    "data_dict={'a':0.1,'b':0.5,'c':0.3,'d':0.4,'z':0.2}"
   ]
  },
  {
   "cell_type": "code",
   "execution_count": 64,
   "metadata": {
    "ExecuteTime": {
     "end_time": "2020-06-18T15:27:58.316229Z",
     "start_time": "2020-06-18T15:27:58.310208Z"
    }
   },
   "outputs": [
    {
     "data": {
      "text/plain": [
       "{'a': 0.1, 'b': 0.5, 'c': 0.3, 'd': 0.4, 'z': 0.2}"
      ]
     },
     "execution_count": 64,
     "metadata": {},
     "output_type": "execute_result"
    }
   ],
   "source": [
    "data_dict"
   ]
  },
  {
   "cell_type": "code",
   "execution_count": 65,
   "metadata": {
    "ExecuteTime": {
     "end_time": "2020-06-18T15:27:58.476880Z",
     "start_time": "2020-06-18T15:27:58.473136Z"
    }
   },
   "outputs": [
    {
     "data": {
      "text/plain": [
       "0.1"
      ]
     },
     "execution_count": 65,
     "metadata": {},
     "output_type": "execute_result"
    }
   ],
   "source": [
    "data['a']"
   ]
  },
  {
   "cell_type": "code",
   "execution_count": 66,
   "metadata": {
    "ExecuteTime": {
     "end_time": "2020-06-18T15:27:58.673855Z",
     "start_time": "2020-06-18T15:27:58.669948Z"
    }
   },
   "outputs": [
    {
     "data": {
      "text/plain": [
       "0.1"
      ]
     },
     "execution_count": 66,
     "metadata": {},
     "output_type": "execute_result"
    }
   ],
   "source": [
    "data_dict['a']"
   ]
  },
  {
   "cell_type": "code",
   "execution_count": 67,
   "metadata": {
    "ExecuteTime": {
     "end_time": "2020-06-18T15:27:58.847878Z",
     "start_time": "2020-06-18T15:27:58.844748Z"
    }
   },
   "outputs": [],
   "source": [
    "data2=pd.Series(data_dict)"
   ]
  },
  {
   "cell_type": "code",
   "execution_count": 68,
   "metadata": {
    "ExecuteTime": {
     "end_time": "2020-06-18T15:27:59.033924Z",
     "start_time": "2020-06-18T15:27:59.028703Z"
    }
   },
   "outputs": [
    {
     "data": {
      "text/plain": [
       "a    0.1\n",
       "b    0.5\n",
       "c    0.3\n",
       "d    0.4\n",
       "z    0.2\n",
       "dtype: float64"
      ]
     },
     "execution_count": 68,
     "metadata": {},
     "output_type": "execute_result"
    }
   ],
   "source": [
    "data2"
   ]
  },
  {
   "cell_type": "code",
   "execution_count": 69,
   "metadata": {
    "ExecuteTime": {
     "end_time": "2020-06-18T15:28:29.777191Z",
     "start_time": "2020-06-18T15:28:29.771499Z"
    }
   },
   "outputs": [
    {
     "data": {
      "text/plain": [
       "a    0.1\n",
       "b    0.5\n",
       "c    0.3\n",
       "d    0.4\n",
       "dtype: float64"
      ]
     },
     "execution_count": 69,
     "metadata": {},
     "output_type": "execute_result"
    }
   ],
   "source": [
    "data['a':'d']"
   ]
  },
  {
   "cell_type": "code",
   "execution_count": 86,
   "metadata": {
    "ExecuteTime": {
     "end_time": "2020-06-18T15:32:28.184290Z",
     "start_time": "2020-06-18T15:32:28.180645Z"
    }
   },
   "outputs": [],
   "source": [
    "data2=pd.Series(2.,index=['a','b','c','d','z'])"
   ]
  },
  {
   "cell_type": "code",
   "execution_count": 87,
   "metadata": {
    "ExecuteTime": {
     "end_time": "2020-06-18T15:32:28.470072Z",
     "start_time": "2020-06-18T15:32:28.464170Z"
    }
   },
   "outputs": [
    {
     "data": {
      "text/plain": [
       "a    0.1\n",
       "b    0.5\n",
       "c    0.3\n",
       "d    0.4\n",
       "z    0.2\n",
       "dtype: float64"
      ]
     },
     "execution_count": 87,
     "metadata": {},
     "output_type": "execute_result"
    }
   ],
   "source": [
    "data"
   ]
  },
  {
   "cell_type": "code",
   "execution_count": 88,
   "metadata": {
    "ExecuteTime": {
     "end_time": "2020-06-18T15:32:28.697320Z",
     "start_time": "2020-06-18T15:32:28.692526Z"
    }
   },
   "outputs": [
    {
     "data": {
      "text/plain": [
       "a    2.0\n",
       "b    2.0\n",
       "c    2.0\n",
       "d    2.0\n",
       "z    2.0\n",
       "dtype: float64"
      ]
     },
     "execution_count": 88,
     "metadata": {},
     "output_type": "execute_result"
    }
   ],
   "source": [
    "data2"
   ]
  },
  {
   "cell_type": "code",
   "execution_count": 89,
   "metadata": {
    "ExecuteTime": {
     "end_time": "2020-06-18T15:32:29.102805Z",
     "start_time": "2020-06-18T15:32:29.099390Z"
    }
   },
   "outputs": [],
   "source": [
    "df=pd.DataFrame({'values':data,'number':data2})"
   ]
  },
  {
   "cell_type": "code",
   "execution_count": 90,
   "metadata": {
    "ExecuteTime": {
     "end_time": "2020-06-18T15:32:29.524102Z",
     "start_time": "2020-06-18T15:32:29.516214Z"
    }
   },
   "outputs": [
    {
     "data": {
      "text/html": [
       "<div>\n",
       "<style scoped>\n",
       "    .dataframe tbody tr th:only-of-type {\n",
       "        vertical-align: middle;\n",
       "    }\n",
       "\n",
       "    .dataframe tbody tr th {\n",
       "        vertical-align: top;\n",
       "    }\n",
       "\n",
       "    .dataframe thead th {\n",
       "        text-align: right;\n",
       "    }\n",
       "</style>\n",
       "<table border=\"1\" class=\"dataframe\">\n",
       "  <thead>\n",
       "    <tr style=\"text-align: right;\">\n",
       "      <th></th>\n",
       "      <th>values</th>\n",
       "      <th>number</th>\n",
       "    </tr>\n",
       "  </thead>\n",
       "  <tbody>\n",
       "    <tr>\n",
       "      <th>a</th>\n",
       "      <td>0.1</td>\n",
       "      <td>2.0</td>\n",
       "    </tr>\n",
       "    <tr>\n",
       "      <th>b</th>\n",
       "      <td>0.5</td>\n",
       "      <td>2.0</td>\n",
       "    </tr>\n",
       "    <tr>\n",
       "      <th>c</th>\n",
       "      <td>0.3</td>\n",
       "      <td>2.0</td>\n",
       "    </tr>\n",
       "    <tr>\n",
       "      <th>d</th>\n",
       "      <td>0.4</td>\n",
       "      <td>2.0</td>\n",
       "    </tr>\n",
       "    <tr>\n",
       "      <th>z</th>\n",
       "      <td>0.2</td>\n",
       "      <td>2.0</td>\n",
       "    </tr>\n",
       "  </tbody>\n",
       "</table>\n",
       "</div>"
      ],
      "text/plain": [
       "   values  number\n",
       "a     0.1     2.0\n",
       "b     0.5     2.0\n",
       "c     0.3     2.0\n",
       "d     0.4     2.0\n",
       "z     0.2     2.0"
      ]
     },
     "execution_count": 90,
     "metadata": {},
     "output_type": "execute_result"
    }
   ],
   "source": [
    "df"
   ]
  },
  {
   "cell_type": "code",
   "execution_count": 91,
   "metadata": {
    "ExecuteTime": {
     "end_time": "2020-06-18T15:33:02.053360Z",
     "start_time": "2020-06-18T15:33:02.049634Z"
    }
   },
   "outputs": [
    {
     "data": {
      "text/plain": [
       "Index(['values', 'number'], dtype='object')"
      ]
     },
     "execution_count": 91,
     "metadata": {},
     "output_type": "execute_result"
    }
   ],
   "source": [
    "df.columns"
   ]
  },
  {
   "cell_type": "code",
   "execution_count": 92,
   "metadata": {
    "ExecuteTime": {
     "end_time": "2020-06-18T15:33:11.668682Z",
     "start_time": "2020-06-18T15:33:11.664854Z"
    }
   },
   "outputs": [
    {
     "data": {
      "text/plain": [
       "Index(['a', 'b', 'c', 'd', 'z'], dtype='object')"
      ]
     },
     "execution_count": 92,
     "metadata": {},
     "output_type": "execute_result"
    }
   ],
   "source": [
    "df.index"
   ]
  },
  {
   "cell_type": "code",
   "execution_count": 94,
   "metadata": {
    "ExecuteTime": {
     "end_time": "2020-06-18T15:33:48.400226Z",
     "start_time": "2020-06-18T15:33:48.395186Z"
    }
   },
   "outputs": [
    {
     "data": {
      "text/plain": [
       "a    0.1\n",
       "b    0.5\n",
       "c    0.3\n",
       "d    0.4\n",
       "z    0.2\n",
       "Name: values, dtype: float64"
      ]
     },
     "execution_count": 94,
     "metadata": {},
     "output_type": "execute_result"
    }
   ],
   "source": [
    "df['values']"
   ]
  },
  {
   "cell_type": "code",
   "execution_count": 104,
   "metadata": {
    "ExecuteTime": {
     "end_time": "2020-06-18T15:35:53.441405Z",
     "start_time": "2020-06-18T15:35:53.435594Z"
    }
   },
   "outputs": [
    {
     "data": {
      "text/plain": [
       "a    0.1\n",
       "b    0.5\n",
       "c    0.3\n",
       "d    0.4\n",
       "Name: values, dtype: float64"
      ]
     },
     "execution_count": 104,
     "metadata": {},
     "output_type": "execute_result"
    }
   ],
   "source": [
    "df.loc['a':'d','values']"
   ]
  },
  {
   "cell_type": "code",
   "execution_count": 106,
   "metadata": {
    "ExecuteTime": {
     "end_time": "2020-06-18T15:36:45.749881Z",
     "start_time": "2020-06-18T15:36:45.730728Z"
    }
   },
   "outputs": [
    {
     "data": {
      "text/html": [
       "<div>\n",
       "<style scoped>\n",
       "    .dataframe tbody tr th:only-of-type {\n",
       "        vertical-align: middle;\n",
       "    }\n",
       "\n",
       "    .dataframe tbody tr th {\n",
       "        vertical-align: top;\n",
       "    }\n",
       "\n",
       "    .dataframe thead th {\n",
       "        text-align: right;\n",
       "    }\n",
       "</style>\n",
       "<table border=\"1\" class=\"dataframe\">\n",
       "  <thead>\n",
       "    <tr style=\"text-align: right;\">\n",
       "      <th></th>\n",
       "      <th>values</th>\n",
       "      <th>number</th>\n",
       "    </tr>\n",
       "  </thead>\n",
       "  <tbody>\n",
       "    <tr>\n",
       "      <th>count</th>\n",
       "      <td>5.000000</td>\n",
       "      <td>5.0</td>\n",
       "    </tr>\n",
       "    <tr>\n",
       "      <th>mean</th>\n",
       "      <td>0.300000</td>\n",
       "      <td>2.0</td>\n",
       "    </tr>\n",
       "    <tr>\n",
       "      <th>std</th>\n",
       "      <td>0.158114</td>\n",
       "      <td>0.0</td>\n",
       "    </tr>\n",
       "    <tr>\n",
       "      <th>min</th>\n",
       "      <td>0.100000</td>\n",
       "      <td>2.0</td>\n",
       "    </tr>\n",
       "    <tr>\n",
       "      <th>25%</th>\n",
       "      <td>0.200000</td>\n",
       "      <td>2.0</td>\n",
       "    </tr>\n",
       "    <tr>\n",
       "      <th>50%</th>\n",
       "      <td>0.300000</td>\n",
       "      <td>2.0</td>\n",
       "    </tr>\n",
       "    <tr>\n",
       "      <th>75%</th>\n",
       "      <td>0.400000</td>\n",
       "      <td>2.0</td>\n",
       "    </tr>\n",
       "    <tr>\n",
       "      <th>max</th>\n",
       "      <td>0.500000</td>\n",
       "      <td>2.0</td>\n",
       "    </tr>\n",
       "  </tbody>\n",
       "</table>\n",
       "</div>"
      ],
      "text/plain": [
       "         values  number\n",
       "count  5.000000     5.0\n",
       "mean   0.300000     2.0\n",
       "std    0.158114     0.0\n",
       "min    0.100000     2.0\n",
       "25%    0.200000     2.0\n",
       "50%    0.300000     2.0\n",
       "75%    0.400000     2.0\n",
       "max    0.500000     2.0"
      ]
     },
     "execution_count": 106,
     "metadata": {},
     "output_type": "execute_result"
    }
   ],
   "source": [
    "df.describe()"
   ]
  },
  {
   "cell_type": "code",
   "execution_count": 118,
   "metadata": {
    "ExecuteTime": {
     "end_time": "2020-06-18T15:42:14.192354Z",
     "start_time": "2020-06-18T15:42:14.055644Z"
    }
   },
   "outputs": [
    {
     "data": {
      "text/plain": [
       "<matplotlib.legend.Legend at 0x1303b0160>"
      ]
     },
     "execution_count": 118,
     "metadata": {},
     "output_type": "execute_result"
    },
    {
     "data": {
      "image/png": "[encoded data removed]",
      "text/plain": [
       "<Figure size 432x288 with 1 Axes>"
      ]
     },
     "metadata": {},
     "output_type": "display_data"
    }
   ],
   "source": [
    "ax=df['values'].plot(kind='pie')\n",
    "ax.set_xlabel('label')\n",
    "plt.legend()"
   ]
  },
  {
   "cell_type": "code",
   "execution_count": 119,
   "metadata": {
    "ExecuteTime": {
     "end_time": "2020-06-18T15:42:43.681763Z",
     "start_time": "2020-06-18T15:42:43.675481Z"
    }
   },
   "outputs": [
    {
     "data": {
      "text/plain": [
       "values    0.1\n",
       "number    2.0\n",
       "Name: a, dtype: float64"
      ]
     },
     "execution_count": 119,
     "metadata": {},
     "output_type": "execute_result"
    }
   ],
   "source": [
    "df.loc['a']"
   ]
  },
  {
   "cell_type": "code",
   "execution_count": 121,
   "metadata": {
    "ExecuteTime": {
     "end_time": "2020-06-18T15:43:11.391460Z",
     "start_time": "2020-06-18T15:43:11.384565Z"
    }
   },
   "outputs": [
    {
     "data": {
      "text/plain": [
       "b    0.5\n",
       "c    0.3\n",
       "d    0.4\n",
       "Name: values, dtype: float64"
      ]
     },
     "execution_count": 121,
     "metadata": {},
     "output_type": "execute_result"
    }
   ],
   "source": [
    "df.loc['b':'d','values']"
   ]
  },
  {
   "cell_type": "code",
   "execution_count": 127,
   "metadata": {
    "ExecuteTime": {
     "end_time": "2020-06-18T15:44:19.262448Z",
     "start_time": "2020-06-18T15:44:19.257317Z"
    }
   },
   "outputs": [
    {
     "data": {
      "text/plain": [
       "pandas.core.frame.DataFrame"
      ]
     },
     "execution_count": 127,
     "metadata": {},
     "output_type": "execute_result"
    }
   ],
   "source": [
    "type(df.iloc[1:4,[0,1]])"
   ]
  },
  {
   "cell_type": "code",
   "execution_count": 128,
   "metadata": {
    "ExecuteTime": {
     "end_time": "2020-06-18T15:44:23.601554Z",
     "start_time": "2020-06-18T15:44:23.596615Z"
    }
   },
   "outputs": [
    {
     "data": {
      "text/plain": [
       "pandas.core.series.Series"
      ]
     },
     "execution_count": 128,
     "metadata": {},
     "output_type": "execute_result"
    }
   ],
   "source": [
    "type(df.iloc[1:4,0])"
   ]
  },
  {
   "cell_type": "code",
   "execution_count": 134,
   "metadata": {
    "ExecuteTime": {
     "end_time": "2020-06-18T15:46:18.429698Z",
     "start_time": "2020-06-18T15:46:18.426869Z"
    }
   },
   "outputs": [],
   "source": [
    "y=np.random.random((20,4))"
   ]
  },
  {
   "cell_type": "code",
   "execution_count": 139,
   "metadata": {
    "ExecuteTime": {
     "end_time": "2020-06-18T15:46:59.151576Z",
     "start_time": "2020-06-18T15:46:59.147662Z"
    }
   },
   "outputs": [],
   "source": [
    "df=pd.DataFrame(y,columns=['a','b','c','d'])"
   ]
  },
  {
   "cell_type": "code",
   "execution_count": 144,
   "metadata": {
    "ExecuteTime": {
     "end_time": "2020-06-18T15:47:43.722618Z",
     "start_time": "2020-06-18T15:47:43.712117Z"
    }
   },
   "outputs": [
    {
     "data": {
      "text/html": [
       "<div>\n",
       "<style scoped>\n",
       "    .dataframe tbody tr th:only-of-type {\n",
       "        vertical-align: middle;\n",
       "    }\n",
       "\n",
       "    .dataframe tbody tr th {\n",
       "        vertical-align: top;\n",
       "    }\n",
       "\n",
       "    .dataframe thead th {\n",
       "        text-align: right;\n",
       "    }\n",
       "</style>\n",
       "<table border=\"1\" class=\"dataframe\">\n",
       "  <thead>\n",
       "    <tr style=\"text-align: right;\">\n",
       "      <th></th>\n",
       "      <th>a</th>\n",
       "      <th>b</th>\n",
       "    </tr>\n",
       "  </thead>\n",
       "  <tbody>\n",
       "    <tr>\n",
       "      <th>0</th>\n",
       "      <td>0.550510</td>\n",
       "      <td>0.050070</td>\n",
       "    </tr>\n",
       "    <tr>\n",
       "      <th>1</th>\n",
       "      <td>0.086714</td>\n",
       "      <td>0.451087</td>\n",
       "    </tr>\n",
       "    <tr>\n",
       "      <th>2</th>\n",
       "      <td>0.005238</td>\n",
       "      <td>0.473621</td>\n",
       "    </tr>\n",
       "    <tr>\n",
       "      <th>3</th>\n",
       "      <td>0.346774</td>\n",
       "      <td>0.042812</td>\n",
       "    </tr>\n",
       "    <tr>\n",
       "      <th>4</th>\n",
       "      <td>0.103025</td>\n",
       "      <td>0.834510</td>\n",
       "    </tr>\n",
       "    <tr>\n",
       "      <th>5</th>\n",
       "      <td>0.713145</td>\n",
       "      <td>0.245557</td>\n",
       "    </tr>\n",
       "    <tr>\n",
       "      <th>6</th>\n",
       "      <td>0.702766</td>\n",
       "      <td>0.395815</td>\n",
       "    </tr>\n",
       "    <tr>\n",
       "      <th>7</th>\n",
       "      <td>0.573546</td>\n",
       "      <td>0.016825</td>\n",
       "    </tr>\n",
       "    <tr>\n",
       "      <th>8</th>\n",
       "      <td>0.004156</td>\n",
       "      <td>0.409162</td>\n",
       "    </tr>\n",
       "    <tr>\n",
       "      <th>9</th>\n",
       "      <td>0.842624</td>\n",
       "      <td>0.703893</td>\n",
       "    </tr>\n",
       "    <tr>\n",
       "      <th>10</th>\n",
       "      <td>0.856192</td>\n",
       "      <td>0.445213</td>\n",
       "    </tr>\n",
       "    <tr>\n",
       "      <th>11</th>\n",
       "      <td>0.352914</td>\n",
       "      <td>0.964532</td>\n",
       "    </tr>\n",
       "    <tr>\n",
       "      <th>12</th>\n",
       "      <td>0.291492</td>\n",
       "      <td>0.368643</td>\n",
       "    </tr>\n",
       "    <tr>\n",
       "      <th>13</th>\n",
       "      <td>0.921377</td>\n",
       "      <td>0.615211</td>\n",
       "    </tr>\n",
       "    <tr>\n",
       "      <th>14</th>\n",
       "      <td>0.746279</td>\n",
       "      <td>0.707427</td>\n",
       "    </tr>\n",
       "    <tr>\n",
       "      <th>15</th>\n",
       "      <td>0.673737</td>\n",
       "      <td>0.960839</td>\n",
       "    </tr>\n",
       "    <tr>\n",
       "      <th>16</th>\n",
       "      <td>0.929652</td>\n",
       "      <td>0.393764</td>\n",
       "    </tr>\n",
       "    <tr>\n",
       "      <th>17</th>\n",
       "      <td>0.705573</td>\n",
       "      <td>0.735195</td>\n",
       "    </tr>\n",
       "    <tr>\n",
       "      <th>18</th>\n",
       "      <td>0.000670</td>\n",
       "      <td>0.548111</td>\n",
       "    </tr>\n",
       "    <tr>\n",
       "      <th>19</th>\n",
       "      <td>0.422407</td>\n",
       "      <td>0.542113</td>\n",
       "    </tr>\n",
       "  </tbody>\n",
       "</table>\n",
       "</div>"
      ],
      "text/plain": [
       "           a         b\n",
       "0   0.550510  0.050070\n",
       "1   0.086714  0.451087\n",
       "2   0.005238  0.473621\n",
       "3   0.346774  0.042812\n",
       "4   0.103025  0.834510\n",
       "5   0.713145  0.245557\n",
       "6   0.702766  0.395815\n",
       "7   0.573546  0.016825\n",
       "8   0.004156  0.409162\n",
       "9   0.842624  0.703893\n",
       "10  0.856192  0.445213\n",
       "11  0.352914  0.964532\n",
       "12  0.291492  0.368643\n",
       "13  0.921377  0.615211\n",
       "14  0.746279  0.707427\n",
       "15  0.673737  0.960839\n",
       "16  0.929652  0.393764\n",
       "17  0.705573  0.735195\n",
       "18  0.000670  0.548111\n",
       "19  0.422407  0.542113"
      ]
     },
     "execution_count": 144,
     "metadata": {},
     "output_type": "execute_result"
    }
   ],
   "source": [
    "df[['a','b']]"
   ]
  },
  {
   "cell_type": "code",
   "execution_count": 147,
   "metadata": {
    "ExecuteTime": {
     "end_time": "2020-06-18T15:48:11.622436Z",
     "start_time": "2020-06-18T15:48:11.612834Z"
    }
   },
   "outputs": [
    {
     "data": {
      "text/html": [
       "<div>\n",
       "<style scoped>\n",
       "    .dataframe tbody tr th:only-of-type {\n",
       "        vertical-align: middle;\n",
       "    }\n",
       "\n",
       "    .dataframe tbody tr th {\n",
       "        vertical-align: top;\n",
       "    }\n",
       "\n",
       "    .dataframe thead th {\n",
       "        text-align: right;\n",
       "    }\n",
       "</style>\n",
       "<table border=\"1\" class=\"dataframe\">\n",
       "  <thead>\n",
       "    <tr style=\"text-align: right;\">\n",
       "      <th></th>\n",
       "      <th>a</th>\n",
       "      <th>b</th>\n",
       "    </tr>\n",
       "  </thead>\n",
       "  <tbody>\n",
       "    <tr>\n",
       "      <th>0</th>\n",
       "      <td>0.550510</td>\n",
       "      <td>0.050070</td>\n",
       "    </tr>\n",
       "    <tr>\n",
       "      <th>1</th>\n",
       "      <td>0.086714</td>\n",
       "      <td>0.451087</td>\n",
       "    </tr>\n",
       "    <tr>\n",
       "      <th>2</th>\n",
       "      <td>0.005238</td>\n",
       "      <td>0.473621</td>\n",
       "    </tr>\n",
       "    <tr>\n",
       "      <th>3</th>\n",
       "      <td>0.346774</td>\n",
       "      <td>0.042812</td>\n",
       "    </tr>\n",
       "    <tr>\n",
       "      <th>4</th>\n",
       "      <td>0.103025</td>\n",
       "      <td>0.834510</td>\n",
       "    </tr>\n",
       "    <tr>\n",
       "      <th>5</th>\n",
       "      <td>0.713145</td>\n",
       "      <td>0.245557</td>\n",
       "    </tr>\n",
       "    <tr>\n",
       "      <th>6</th>\n",
       "      <td>0.702766</td>\n",
       "      <td>0.395815</td>\n",
       "    </tr>\n",
       "    <tr>\n",
       "      <th>7</th>\n",
       "      <td>0.573546</td>\n",
       "      <td>0.016825</td>\n",
       "    </tr>\n",
       "    <tr>\n",
       "      <th>8</th>\n",
       "      <td>0.004156</td>\n",
       "      <td>0.409162</td>\n",
       "    </tr>\n",
       "    <tr>\n",
       "      <th>9</th>\n",
       "      <td>0.842624</td>\n",
       "      <td>0.703893</td>\n",
       "    </tr>\n",
       "    <tr>\n",
       "      <th>10</th>\n",
       "      <td>0.856192</td>\n",
       "      <td>0.445213</td>\n",
       "    </tr>\n",
       "  </tbody>\n",
       "</table>\n",
       "</div>"
      ],
      "text/plain": [
       "           a         b\n",
       "0   0.550510  0.050070\n",
       "1   0.086714  0.451087\n",
       "2   0.005238  0.473621\n",
       "3   0.346774  0.042812\n",
       "4   0.103025  0.834510\n",
       "5   0.713145  0.245557\n",
       "6   0.702766  0.395815\n",
       "7   0.573546  0.016825\n",
       "8   0.004156  0.409162\n",
       "9   0.842624  0.703893\n",
       "10  0.856192  0.445213"
      ]
     },
     "execution_count": 147,
     "metadata": {},
     "output_type": "execute_result"
    }
   ],
   "source": [
    "df.loc[:10,'a':'b']"
   ]
  },
  {
   "cell_type": "code",
   "execution_count": 154,
   "metadata": {
    "ExecuteTime": {
     "end_time": "2020-06-18T15:50:04.137754Z",
     "start_time": "2020-06-18T15:50:04.133668Z"
    }
   },
   "outputs": [],
   "source": [
    "df['e']=2*np.exp(df['a'])-df['b']"
   ]
  },
  {
   "cell_type": "code",
   "execution_count": 155,
   "metadata": {
    "ExecuteTime": {
     "end_time": "2020-06-18T15:50:04.924931Z",
     "start_time": "2020-06-18T15:50:04.760011Z"
    }
   },
   "outputs": [
    {
     "data": {
      "text/plain": [
       "<matplotlib.axes._subplots.AxesSubplot at 0x11f2d2700>"
      ]
     },
     "execution_count": 155,
     "metadata": {},
     "output_type": "execute_result"
    },
    {
     "data": {
      "image/png": "[encoded data removed]",
      "text/plain": [
       "<Figure size 432x288 with 1 Axes>"
      ]
     },
     "metadata": {
      "needs_background": "light"
     },
     "output_type": "display_data"
    }
   ],
   "source": [
    "df.plot(x='a',y='e',kind='scatter')"
   ]
  },
  {
   "cell_type": "code",
   "execution_count": 168,
   "metadata": {
    "ExecuteTime": {
     "end_time": "2020-06-18T15:54:12.190801Z",
     "start_time": "2020-06-18T15:54:12.177260Z"
    }
   },
   "outputs": [
    {
     "data": {
      "text/html": [
       "<div>\n",
       "<style scoped>\n",
       "    .dataframe tbody tr th:only-of-type {\n",
       "        vertical-align: middle;\n",
       "    }\n",
       "\n",
       "    .dataframe tbody tr th {\n",
       "        vertical-align: top;\n",
       "    }\n",
       "\n",
       "    .dataframe thead th {\n",
       "        text-align: right;\n",
       "    }\n",
       "</style>\n",
       "<table border=\"1\" class=\"dataframe\">\n",
       "  <thead>\n",
       "    <tr style=\"text-align: right;\">\n",
       "      <th></th>\n",
       "      <th>a</th>\n",
       "      <th>b</th>\n",
       "      <th>c</th>\n",
       "      <th>d</th>\n",
       "      <th>e</th>\n",
       "    </tr>\n",
       "  </thead>\n",
       "  <tbody>\n",
       "    <tr>\n",
       "      <th>0</th>\n",
       "      <td>-2.867694</td>\n",
       "      <td>-3.368135</td>\n",
       "      <td>-3.323289</td>\n",
       "      <td>-3.115917</td>\n",
       "      <td>0.0</td>\n",
       "    </tr>\n",
       "    <tr>\n",
       "      <th>1</th>\n",
       "      <td>-1.643369</td>\n",
       "      <td>-1.278996</td>\n",
       "      <td>-1.242384</td>\n",
       "      <td>-1.230769</td>\n",
       "      <td>0.0</td>\n",
       "    </tr>\n",
       "    <tr>\n",
       "      <th>2</th>\n",
       "      <td>-1.531645</td>\n",
       "      <td>-1.063262</td>\n",
       "      <td>-1.284178</td>\n",
       "      <td>-0.877534</td>\n",
       "      <td>0.0</td>\n",
       "    </tr>\n",
       "    <tr>\n",
       "      <th>3</th>\n",
       "      <td>-2.439407</td>\n",
       "      <td>-2.743368</td>\n",
       "      <td>-2.471071</td>\n",
       "      <td>-2.292784</td>\n",
       "      <td>0.0</td>\n",
       "    </tr>\n",
       "    <tr>\n",
       "      <th>4</th>\n",
       "      <td>-1.279503</td>\n",
       "      <td>-0.548018</td>\n",
       "      <td>-0.417023</td>\n",
       "      <td>-0.510164</td>\n",
       "      <td>0.0</td>\n",
       "    </tr>\n",
       "    <tr>\n",
       "      <th>5</th>\n",
       "      <td>-3.122094</td>\n",
       "      <td>-3.589681</td>\n",
       "      <td>-3.153797</td>\n",
       "      <td>-3.437412</td>\n",
       "      <td>0.0</td>\n",
       "    </tr>\n",
       "    <tr>\n",
       "      <th>6</th>\n",
       "      <td>-2.940082</td>\n",
       "      <td>-3.247033</td>\n",
       "      <td>-2.824757</td>\n",
       "      <td>-3.624546</td>\n",
       "      <td>0.0</td>\n",
       "    </tr>\n",
       "    <tr>\n",
       "      <th>7</th>\n",
       "      <td>-2.958726</td>\n",
       "      <td>-3.515447</td>\n",
       "      <td>-3.141819</td>\n",
       "      <td>-3.237775</td>\n",
       "      <td>0.0</td>\n",
       "    </tr>\n",
       "    <tr>\n",
       "      <th>8</th>\n",
       "      <td>-1.595012</td>\n",
       "      <td>-1.190006</td>\n",
       "      <td>-0.831855</td>\n",
       "      <td>-1.052319</td>\n",
       "      <td>0.0</td>\n",
       "    </tr>\n",
       "    <tr>\n",
       "      <th>9</th>\n",
       "      <td>-3.098389</td>\n",
       "      <td>-3.237120</td>\n",
       "      <td>-3.765495</td>\n",
       "      <td>-3.826566</td>\n",
       "      <td>0.0</td>\n",
       "    </tr>\n",
       "    <tr>\n",
       "      <th>10</th>\n",
       "      <td>-3.406952</td>\n",
       "      <td>-3.817931</td>\n",
       "      <td>-3.308534</td>\n",
       "      <td>-4.138323</td>\n",
       "      <td>0.0</td>\n",
       "    </tr>\n",
       "    <tr>\n",
       "      <th>11</th>\n",
       "      <td>-1.528971</td>\n",
       "      <td>-0.917353</td>\n",
       "      <td>-1.128674</td>\n",
       "      <td>-1.684513</td>\n",
       "      <td>0.0</td>\n",
       "    </tr>\n",
       "    <tr>\n",
       "      <th>12</th>\n",
       "      <td>-2.016712</td>\n",
       "      <td>-1.939561</td>\n",
       "      <td>-1.335678</td>\n",
       "      <td>-1.393846</td>\n",
       "      <td>0.0</td>\n",
       "    </tr>\n",
       "    <tr>\n",
       "      <th>13</th>\n",
       "      <td>-3.488907</td>\n",
       "      <td>-3.795072</td>\n",
       "      <td>-3.825194</td>\n",
       "      <td>-3.967476</td>\n",
       "      <td>0.0</td>\n",
       "    </tr>\n",
       "    <tr>\n",
       "      <th>14</th>\n",
       "      <td>-2.764567</td>\n",
       "      <td>-2.803419</td>\n",
       "      <td>-3.449151</td>\n",
       "      <td>-2.901168</td>\n",
       "      <td>0.0</td>\n",
       "    </tr>\n",
       "    <tr>\n",
       "      <th>15</th>\n",
       "      <td>-2.288533</td>\n",
       "      <td>-2.001431</td>\n",
       "      <td>-2.842612</td>\n",
       "      <td>-2.297509</td>\n",
       "      <td>0.0</td>\n",
       "    </tr>\n",
       "    <tr>\n",
       "      <th>16</th>\n",
       "      <td>-3.743838</td>\n",
       "      <td>-4.279726</td>\n",
       "      <td>-4.474969</td>\n",
       "      <td>-3.891759</td>\n",
       "      <td>0.0</td>\n",
       "    </tr>\n",
       "    <tr>\n",
       "      <th>17</th>\n",
       "      <td>-2.609245</td>\n",
       "      <td>-2.579622</td>\n",
       "      <td>-2.533147</td>\n",
       "      <td>-2.575242</td>\n",
       "      <td>0.0</td>\n",
       "    </tr>\n",
       "    <tr>\n",
       "      <th>18</th>\n",
       "      <td>-1.452560</td>\n",
       "      <td>-0.905119</td>\n",
       "      <td>-1.204742</td>\n",
       "      <td>-1.279853</td>\n",
       "      <td>0.0</td>\n",
       "    </tr>\n",
       "    <tr>\n",
       "      <th>19</th>\n",
       "      <td>-2.086738</td>\n",
       "      <td>-1.967032</td>\n",
       "      <td>-1.562686</td>\n",
       "      <td>-2.064885</td>\n",
       "      <td>0.0</td>\n",
       "    </tr>\n",
       "  </tbody>\n",
       "</table>\n",
       "</div>"
      ],
      "text/plain": [
       "           a         b         c         d    e\n",
       "0  -2.867694 -3.368135 -3.323289 -3.115917  0.0\n",
       "1  -1.643369 -1.278996 -1.242384 -1.230769  0.0\n",
       "2  -1.531645 -1.063262 -1.284178 -0.877534  0.0\n",
       "3  -2.439407 -2.743368 -2.471071 -2.292784  0.0\n",
       "4  -1.279503 -0.548018 -0.417023 -0.510164  0.0\n",
       "5  -3.122094 -3.589681 -3.153797 -3.437412  0.0\n",
       "6  -2.940082 -3.247033 -2.824757 -3.624546  0.0\n",
       "7  -2.958726 -3.515447 -3.141819 -3.237775  0.0\n",
       "8  -1.595012 -1.190006 -0.831855 -1.052319  0.0\n",
       "9  -3.098389 -3.237120 -3.765495 -3.826566  0.0\n",
       "10 -3.406952 -3.817931 -3.308534 -4.138323  0.0\n",
       "11 -1.528971 -0.917353 -1.128674 -1.684513  0.0\n",
       "12 -2.016712 -1.939561 -1.335678 -1.393846  0.0\n",
       "13 -3.488907 -3.795072 -3.825194 -3.967476  0.0\n",
       "14 -2.764567 -2.803419 -3.449151 -2.901168  0.0\n",
       "15 -2.288533 -2.001431 -2.842612 -2.297509  0.0\n",
       "16 -3.743838 -4.279726 -4.474969 -3.891759  0.0\n",
       "17 -2.609245 -2.579622 -2.533147 -2.575242  0.0\n",
       "18 -1.452560 -0.905119 -1.204742 -1.279853  0.0\n",
       "19 -2.086738 -1.967032 -1.562686 -2.064885  0.0"
      ]
     },
     "execution_count": 168,
     "metadata": {},
     "output_type": "execute_result"
    }
   ],
   "source": [
    "df.subtract(df.e,axis=0)"
   ]
  },
  {
   "cell_type": "code",
   "execution_count": 170,
   "metadata": {
    "ExecuteTime": {
     "end_time": "2020-06-18T15:55:15.018653Z",
     "start_time": "2020-06-18T15:55:15.013133Z"
    }
   },
   "outputs": [
    {
     "data": {
      "text/plain": [
       "a    0.491439\n",
       "b    0.495220\n",
       "c    0.528534\n",
       "d    0.464569\n",
       "e    2.934587\n",
       "dtype: float64"
      ]
     },
     "execution_count": 170,
     "metadata": {},
     "output_type": "execute_result"
    }
   ],
   "source": [
    "df.mean()"
   ]
  },
  {
   "cell_type": "code",
   "execution_count": 171,
   "metadata": {
    "ExecuteTime": {
     "end_time": "2020-06-18T15:56:05.051332Z",
     "start_time": "2020-06-18T15:56:05.048247Z"
    }
   },
   "outputs": [],
   "source": [
    "values1=np.array([1,None,2,3,4,None])"
   ]
  },
  {
   "cell_type": "code",
   "execution_count": 172,
   "metadata": {
    "ExecuteTime": {
     "end_time": "2020-06-18T15:56:08.638146Z",
     "start_time": "2020-06-18T15:56:08.634606Z"
    }
   },
   "outputs": [
    {
     "data": {
      "text/plain": [
       "array([1, None, 2, 3, 4, None], dtype=object)"
      ]
     },
     "execution_count": 172,
     "metadata": {},
     "output_type": "execute_result"
    }
   ],
   "source": [
    "values1"
   ]
  },
  {
   "cell_type": "code",
   "execution_count": 174,
   "metadata": {
    "ExecuteTime": {
     "end_time": "2020-06-18T15:56:33.443937Z",
     "start_time": "2020-06-18T15:56:33.419529Z"
    }
   },
   "outputs": [
    {
     "ename": "TypeError",
     "evalue": "unsupported operand type(s) for +: 'int' and 'NoneType'",
     "output_type": "error",
     "traceback": [
      "\u001b[0;31m---------------------------------------------------------------------------\u001b[0m",
      "\u001b[0;31mTypeError\u001b[0m                                 Traceback (most recent call last)",
      "\u001b[0;32m<ipython-input-174-6dba45506404>\u001b[0m in \u001b[0;36m<module>\u001b[0;34m\u001b[0m\n\u001b[0;32m----> 1\u001b[0;31m \u001b[0mvalues1\u001b[0m\u001b[0;34m.\u001b[0m\u001b[0msum\u001b[0m\u001b[0;34m(\u001b[0m\u001b[0;34m)\u001b[0m\u001b[0;34m\u001b[0m\u001b[0;34m\u001b[0m\u001b[0m\n\u001b[0m",
      "\u001b[0;32m/usr/local/Cellar/jupyterlab/2.1.1/libexec/lib/python3.8/site-packages/numpy/core/_methods.py\u001b[0m in \u001b[0;36m_sum\u001b[0;34m(a, axis, dtype, out, keepdims, initial, where)\u001b[0m\n\u001b[1;32m     36\u001b[0m def _sum(a, axis=None, dtype=None, out=None, keepdims=False,\n\u001b[1;32m     37\u001b[0m          initial=_NoValue, where=True):\n\u001b[0;32m---> 38\u001b[0;31m     \u001b[0;32mreturn\u001b[0m \u001b[0mumr_sum\u001b[0m\u001b[0;34m(\u001b[0m\u001b[0ma\u001b[0m\u001b[0;34m,\u001b[0m \u001b[0maxis\u001b[0m\u001b[0;34m,\u001b[0m \u001b[0mdtype\u001b[0m\u001b[0;34m,\u001b[0m \u001b[0mout\u001b[0m\u001b[0;34m,\u001b[0m \u001b[0mkeepdims\u001b[0m\u001b[0;34m,\u001b[0m \u001b[0minitial\u001b[0m\u001b[0;34m,\u001b[0m \u001b[0mwhere\u001b[0m\u001b[0;34m)\u001b[0m\u001b[0;34m\u001b[0m\u001b[0;34m\u001b[0m\u001b[0m\n\u001b[0m\u001b[1;32m     39\u001b[0m \u001b[0;34m\u001b[0m\u001b[0m\n\u001b[1;32m     40\u001b[0m def _prod(a, axis=None, dtype=None, out=None, keepdims=False,\n",
      "\u001b[0;31mTypeError\u001b[0m: unsupported operand type(s) for +: 'int' and 'NoneType'"
     ]
    }
   ],
   "source": [
    "values1.sum()"
   ]
  },
  {
   "cell_type": "code",
   "execution_count": 176,
   "metadata": {
    "ExecuteTime": {
     "end_time": "2020-06-18T15:56:59.734987Z",
     "start_time": "2020-06-18T15:56:59.732005Z"
    }
   },
   "outputs": [],
   "source": [
    "values1=np.array([1,np.nan,2,3,4,np.nan])"
   ]
  },
  {
   "cell_type": "code",
   "execution_count": 179,
   "metadata": {
    "ExecuteTime": {
     "end_time": "2020-06-18T15:57:19.623232Z",
     "start_time": "2020-06-18T15:57:19.619203Z"
    }
   },
   "outputs": [
    {
     "data": {
      "text/plain": [
       "array([ 1., nan,  2.,  3.,  4., nan])"
      ]
     },
     "execution_count": 179,
     "metadata": {},
     "output_type": "execute_result"
    }
   ],
   "source": [
    "values1"
   ]
  },
  {
   "cell_type": "code",
   "execution_count": 185,
   "metadata": {
    "ExecuteTime": {
     "end_time": "2020-06-18T15:59:21.612445Z",
     "start_time": "2020-06-18T15:59:21.598562Z"
    }
   },
   "outputs": [
    {
     "data": {
      "text/html": [
       "<div>\n",
       "<style scoped>\n",
       "    .dataframe tbody tr th:only-of-type {\n",
       "        vertical-align: middle;\n",
       "    }\n",
       "\n",
       "    .dataframe tbody tr th {\n",
       "        vertical-align: top;\n",
       "    }\n",
       "\n",
       "    .dataframe thead th {\n",
       "        text-align: right;\n",
       "    }\n",
       "</style>\n",
       "<table border=\"1\" class=\"dataframe\">\n",
       "  <thead>\n",
       "    <tr style=\"text-align: right;\">\n",
       "      <th></th>\n",
       "      <th>a</th>\n",
       "      <th>b</th>\n",
       "      <th>c</th>\n",
       "      <th>d</th>\n",
       "      <th>e</th>\n",
       "    </tr>\n",
       "  </thead>\n",
       "  <tbody>\n",
       "    <tr>\n",
       "      <th>0</th>\n",
       "      <td>-2.867694</td>\n",
       "      <td>-3.368135</td>\n",
       "      <td>-3.323289</td>\n",
       "      <td>-3.115917</td>\n",
       "      <td>0.0</td>\n",
       "    </tr>\n",
       "    <tr>\n",
       "      <th>1</th>\n",
       "      <td>-1.643369</td>\n",
       "      <td>-1.278996</td>\n",
       "      <td>-1.242384</td>\n",
       "      <td>-1.230769</td>\n",
       "      <td>0.0</td>\n",
       "    </tr>\n",
       "    <tr>\n",
       "      <th>2</th>\n",
       "      <td>-1.531645</td>\n",
       "      <td>-1.063262</td>\n",
       "      <td>-1.284178</td>\n",
       "      <td>-0.877534</td>\n",
       "      <td>0.0</td>\n",
       "    </tr>\n",
       "    <tr>\n",
       "      <th>3</th>\n",
       "      <td>-2.439407</td>\n",
       "      <td>-2.743368</td>\n",
       "      <td>-2.471071</td>\n",
       "      <td>-2.292784</td>\n",
       "      <td>0.0</td>\n",
       "    </tr>\n",
       "    <tr>\n",
       "      <th>4</th>\n",
       "      <td>-1.279503</td>\n",
       "      <td>-0.548018</td>\n",
       "      <td>-0.417023</td>\n",
       "      <td>-0.510164</td>\n",
       "      <td>0.0</td>\n",
       "    </tr>\n",
       "    <tr>\n",
       "      <th>5</th>\n",
       "      <td>-3.122094</td>\n",
       "      <td>-3.589681</td>\n",
       "      <td>-3.153797</td>\n",
       "      <td>-3.437412</td>\n",
       "      <td>0.0</td>\n",
       "    </tr>\n",
       "    <tr>\n",
       "      <th>6</th>\n",
       "      <td>-2.940082</td>\n",
       "      <td>-3.247033</td>\n",
       "      <td>-2.824757</td>\n",
       "      <td>-3.624546</td>\n",
       "      <td>0.0</td>\n",
       "    </tr>\n",
       "    <tr>\n",
       "      <th>7</th>\n",
       "      <td>-2.958726</td>\n",
       "      <td>-3.515447</td>\n",
       "      <td>-3.141819</td>\n",
       "      <td>-3.237775</td>\n",
       "      <td>0.0</td>\n",
       "    </tr>\n",
       "    <tr>\n",
       "      <th>8</th>\n",
       "      <td>-1.595012</td>\n",
       "      <td>-1.190006</td>\n",
       "      <td>-0.831855</td>\n",
       "      <td>-1.052319</td>\n",
       "      <td>0.0</td>\n",
       "    </tr>\n",
       "    <tr>\n",
       "      <th>9</th>\n",
       "      <td>-3.098389</td>\n",
       "      <td>-3.237120</td>\n",
       "      <td>-3.765495</td>\n",
       "      <td>-3.826566</td>\n",
       "      <td>0.0</td>\n",
       "    </tr>\n",
       "    <tr>\n",
       "      <th>10</th>\n",
       "      <td>-3.406952</td>\n",
       "      <td>-3.817931</td>\n",
       "      <td>-3.308534</td>\n",
       "      <td>-4.138323</td>\n",
       "      <td>0.0</td>\n",
       "    </tr>\n",
       "    <tr>\n",
       "      <th>11</th>\n",
       "      <td>-1.528971</td>\n",
       "      <td>-0.917353</td>\n",
       "      <td>-1.128674</td>\n",
       "      <td>-1.684513</td>\n",
       "      <td>0.0</td>\n",
       "    </tr>\n",
       "    <tr>\n",
       "      <th>12</th>\n",
       "      <td>-2.016712</td>\n",
       "      <td>-1.939561</td>\n",
       "      <td>-1.335678</td>\n",
       "      <td>-1.393846</td>\n",
       "      <td>0.0</td>\n",
       "    </tr>\n",
       "    <tr>\n",
       "      <th>13</th>\n",
       "      <td>-3.488907</td>\n",
       "      <td>-3.795072</td>\n",
       "      <td>-3.825194</td>\n",
       "      <td>-3.967476</td>\n",
       "      <td>0.0</td>\n",
       "    </tr>\n",
       "    <tr>\n",
       "      <th>14</th>\n",
       "      <td>-2.764567</td>\n",
       "      <td>-2.803419</td>\n",
       "      <td>-3.449151</td>\n",
       "      <td>-2.901168</td>\n",
       "      <td>0.0</td>\n",
       "    </tr>\n",
       "    <tr>\n",
       "      <th>15</th>\n",
       "      <td>-2.288533</td>\n",
       "      <td>-2.001431</td>\n",
       "      <td>-2.842612</td>\n",
       "      <td>-2.297509</td>\n",
       "      <td>0.0</td>\n",
       "    </tr>\n",
       "    <tr>\n",
       "      <th>16</th>\n",
       "      <td>-3.743838</td>\n",
       "      <td>-4.279726</td>\n",
       "      <td>-4.474969</td>\n",
       "      <td>-3.891759</td>\n",
       "      <td>0.0</td>\n",
       "    </tr>\n",
       "    <tr>\n",
       "      <th>17</th>\n",
       "      <td>-2.609245</td>\n",
       "      <td>-2.579622</td>\n",
       "      <td>-2.533147</td>\n",
       "      <td>-2.575242</td>\n",
       "      <td>0.0</td>\n",
       "    </tr>\n",
       "    <tr>\n",
       "      <th>18</th>\n",
       "      <td>-1.452560</td>\n",
       "      <td>-0.905119</td>\n",
       "      <td>-1.204742</td>\n",
       "      <td>-1.279853</td>\n",
       "      <td>0.0</td>\n",
       "    </tr>\n",
       "    <tr>\n",
       "      <th>19</th>\n",
       "      <td>-2.086738</td>\n",
       "      <td>-1.967032</td>\n",
       "      <td>-1.562686</td>\n",
       "      <td>-2.064885</td>\n",
       "      <td>0.0</td>\n",
       "    </tr>\n",
       "  </tbody>\n",
       "</table>\n",
       "</div>"
      ],
      "text/plain": [
       "           a         b         c         d    e\n",
       "0  -2.867694 -3.368135 -3.323289 -3.115917  0.0\n",
       "1  -1.643369 -1.278996 -1.242384 -1.230769  0.0\n",
       "2  -1.531645 -1.063262 -1.284178 -0.877534  0.0\n",
       "3  -2.439407 -2.743368 -2.471071 -2.292784  0.0\n",
       "4  -1.279503 -0.548018 -0.417023 -0.510164  0.0\n",
       "5  -3.122094 -3.589681 -3.153797 -3.437412  0.0\n",
       "6  -2.940082 -3.247033 -2.824757 -3.624546  0.0\n",
       "7  -2.958726 -3.515447 -3.141819 -3.237775  0.0\n",
       "8  -1.595012 -1.190006 -0.831855 -1.052319  0.0\n",
       "9  -3.098389 -3.237120 -3.765495 -3.826566  0.0\n",
       "10 -3.406952 -3.817931 -3.308534 -4.138323  0.0\n",
       "11 -1.528971 -0.917353 -1.128674 -1.684513  0.0\n",
       "12 -2.016712 -1.939561 -1.335678 -1.393846  0.0\n",
       "13 -3.488907 -3.795072 -3.825194 -3.967476  0.0\n",
       "14 -2.764567 -2.803419 -3.449151 -2.901168  0.0\n",
       "15 -2.288533 -2.001431 -2.842612 -2.297509  0.0\n",
       "16 -3.743838 -4.279726 -4.474969 -3.891759  0.0\n",
       "17 -2.609245 -2.579622 -2.533147 -2.575242  0.0\n",
       "18 -1.452560 -0.905119 -1.204742 -1.279853  0.0\n",
       "19 -2.086738 -1.967032 -1.562686 -2.064885  0.0"
      ]
     },
     "execution_count": 185,
     "metadata": {},
     "output_type": "execute_result"
    }
   ],
   "source": [
    "df.subtract(df.e,axis=0)"
   ]
  },
  {
   "cell_type": "code",
   "execution_count": 189,
   "metadata": {
    "ExecuteTime": {
     "end_time": "2020-06-18T16:00:41.422876Z",
     "start_time": "2020-06-18T16:00:41.419421Z"
    }
   },
   "outputs": [],
   "source": [
    "df.index=np.random.randint(0,1000,20)"
   ]
  },
  {
   "cell_type": "code",
   "execution_count": 195,
   "metadata": {
    "ExecuteTime": {
     "end_time": "2020-06-18T16:02:04.142798Z",
     "start_time": "2020-06-18T16:02:04.140150Z"
    }
   },
   "outputs": [],
   "source": [
    "df.sort_index(inplace=True)"
   ]
  },
  {
   "cell_type": "code",
   "execution_count": 197,
   "metadata": {
    "ExecuteTime": {
     "end_time": "2020-06-18T16:02:54.638720Z",
     "start_time": "2020-06-18T16:02:54.628202Z"
    }
   },
   "outputs": [
    {
     "data": {
      "text/html": [
       "<div>\n",
       "<style scoped>\n",
       "    .dataframe tbody tr th:only-of-type {\n",
       "        vertical-align: middle;\n",
       "    }\n",
       "\n",
       "    .dataframe tbody tr th {\n",
       "        vertical-align: top;\n",
       "    }\n",
       "\n",
       "    .dataframe thead th {\n",
       "        text-align: right;\n",
       "    }\n",
       "</style>\n",
       "<table border=\"1\" class=\"dataframe\">\n",
       "  <thead>\n",
       "    <tr style=\"text-align: right;\">\n",
       "      <th></th>\n",
       "      <th>a</th>\n",
       "      <th>b</th>\n",
       "      <th>c</th>\n",
       "      <th>d</th>\n",
       "      <th>e</th>\n",
       "    </tr>\n",
       "  </thead>\n",
       "  <tbody>\n",
       "    <tr>\n",
       "      <th>59</th>\n",
       "      <td>0.346774</td>\n",
       "      <td>0.042812</td>\n",
       "      <td>0.315110</td>\n",
       "      <td>0.493397</td>\n",
       "      <td>2.786181</td>\n",
       "    </tr>\n",
       "    <tr>\n",
       "      <th>115</th>\n",
       "      <td>0.746279</td>\n",
       "      <td>0.707427</td>\n",
       "      <td>0.061695</td>\n",
       "      <td>0.609678</td>\n",
       "      <td>3.510846</td>\n",
       "    </tr>\n",
       "    <tr>\n",
       "      <th>235</th>\n",
       "      <td>0.921377</td>\n",
       "      <td>0.615211</td>\n",
       "      <td>0.585090</td>\n",
       "      <td>0.442808</td>\n",
       "      <td>4.410284</td>\n",
       "    </tr>\n",
       "    <tr>\n",
       "      <th>455</th>\n",
       "      <td>0.929652</td>\n",
       "      <td>0.393764</td>\n",
       "      <td>0.198521</td>\n",
       "      <td>0.781731</td>\n",
       "      <td>4.673490</td>\n",
       "    </tr>\n",
       "    <tr>\n",
       "      <th>459</th>\n",
       "      <td>0.086714</td>\n",
       "      <td>0.451087</td>\n",
       "      <td>0.487700</td>\n",
       "      <td>0.499314</td>\n",
       "      <td>1.730083</td>\n",
       "    </tr>\n",
       "  </tbody>\n",
       "</table>\n",
       "</div>"
      ],
      "text/plain": [
       "            a         b         c         d         e\n",
       "59   0.346774  0.042812  0.315110  0.493397  2.786181\n",
       "115  0.746279  0.707427  0.061695  0.609678  3.510846\n",
       "235  0.921377  0.615211  0.585090  0.442808  4.410284\n",
       "455  0.929652  0.393764  0.198521  0.781731  4.673490\n",
       "459  0.086714  0.451087  0.487700  0.499314  1.730083"
      ]
     },
     "execution_count": 197,
     "metadata": {},
     "output_type": "execute_result"
    }
   ],
   "source": [
    "df.head()"
   ]
  },
  {
   "cell_type": "code",
   "execution_count": 209,
   "metadata": {
    "ExecuteTime": {
     "end_time": "2020-06-18T16:05:09.592194Z",
     "start_time": "2020-06-18T16:05:09.588880Z"
    }
   },
   "outputs": [],
   "source": [
    "values1=np.array([1,np.nan,2,3,4,np.nan])"
   ]
  },
  {
   "cell_type": "code",
   "execution_count": 210,
   "metadata": {
    "ExecuteTime": {
     "end_time": "2020-06-18T16:05:09.798155Z",
     "start_time": "2020-06-18T16:05:09.789487Z"
    }
   },
   "outputs": [
    {
     "data": {
      "text/plain": [
       "nan"
      ]
     },
     "execution_count": 210,
     "metadata": {},
     "output_type": "execute_result"
    }
   ],
   "source": [
    "values1.mean()"
   ]
  },
  {
   "cell_type": "code",
   "execution_count": 211,
   "metadata": {
    "ExecuteTime": {
     "end_time": "2020-06-18T16:05:10.189806Z",
     "start_time": "2020-06-18T16:05:10.186470Z"
    }
   },
   "outputs": [
    {
     "data": {
      "text/plain": [
       "nan"
      ]
     },
     "execution_count": 211,
     "metadata": {},
     "output_type": "execute_result"
    }
   ],
   "source": [
    "np.nan*0"
   ]
  },
  {
   "cell_type": "code",
   "execution_count": 212,
   "metadata": {
    "ExecuteTime": {
     "end_time": "2020-06-18T16:05:10.573391Z",
     "start_time": "2020-06-18T16:05:10.569788Z"
    }
   },
   "outputs": [
    {
     "data": {
      "text/plain": [
       "10.0"
      ]
     },
     "execution_count": 212,
     "metadata": {},
     "output_type": "execute_result"
    }
   ],
   "source": [
    "np.nansum(values1)"
   ]
  },
  {
   "cell_type": "code",
   "execution_count": 227,
   "metadata": {
    "ExecuteTime": {
     "end_time": "2020-06-18T16:08:35.211037Z",
     "start_time": "2020-06-18T16:08:35.207812Z"
    }
   },
   "outputs": [],
   "source": [
    "values1=np.array([1,np.nan,2,3,4,None])\n",
    "s=pd.Series(values1)"
   ]
  },
  {
   "cell_type": "code",
   "execution_count": 228,
   "metadata": {
    "ExecuteTime": {
     "end_time": "2020-06-18T16:08:35.377424Z",
     "start_time": "2020-06-18T16:08:35.372503Z"
    }
   },
   "outputs": [
    {
     "data": {
      "text/plain": [
       "10"
      ]
     },
     "execution_count": 228,
     "metadata": {},
     "output_type": "execute_result"
    }
   ],
   "source": [
    "s.sum()"
   ]
  },
  {
   "cell_type": "code",
   "execution_count": 229,
   "metadata": {
    "ExecuteTime": {
     "end_time": "2020-06-18T16:08:35.537648Z",
     "start_time": "2020-06-18T16:08:35.531225Z"
    }
   },
   "outputs": [
    {
     "data": {
      "text/plain": [
       "0    1\n",
       "2    2\n",
       "3    3\n",
       "4    4\n",
       "dtype: object"
      ]
     },
     "execution_count": 229,
     "metadata": {},
     "output_type": "execute_result"
    }
   ],
   "source": [
    "s[s.notnull()]"
   ]
  },
  {
   "cell_type": "code",
   "execution_count": 230,
   "metadata": {
    "ExecuteTime": {
     "end_time": "2020-06-18T16:08:35.679612Z",
     "start_time": "2020-06-18T16:08:35.674993Z"
    }
   },
   "outputs": [
    {
     "data": {
      "text/plain": [
       "0       1\n",
       "1     NaN\n",
       "2       2\n",
       "3       3\n",
       "4       4\n",
       "5    None\n",
       "dtype: object"
      ]
     },
     "execution_count": 230,
     "metadata": {},
     "output_type": "execute_result"
    }
   ],
   "source": [
    "s"
   ]
  },
  {
   "cell_type": "code",
   "execution_count": 231,
   "metadata": {
    "ExecuteTime": {
     "end_time": "2020-06-18T16:08:35.924391Z",
     "start_time": "2020-06-18T16:08:35.917704Z"
    }
   },
   "outputs": [
    {
     "data": {
      "text/plain": [
       "0    1\n",
       "2    2\n",
       "3    3\n",
       "4    4\n",
       "dtype: object"
      ]
     },
     "execution_count": 231,
     "metadata": {},
     "output_type": "execute_result"
    }
   ],
   "source": [
    "s.dropna()"
   ]
  },
  {
   "cell_type": "code",
   "execution_count": 232,
   "metadata": {
    "ExecuteTime": {
     "end_time": "2020-06-18T16:08:36.173290Z",
     "start_time": "2020-06-18T16:08:36.168854Z"
    }
   },
   "outputs": [
    {
     "data": {
      "text/plain": [
       "0       1\n",
       "1     NaN\n",
       "2       2\n",
       "3       3\n",
       "4       4\n",
       "5    None\n",
       "dtype: object"
      ]
     },
     "execution_count": 232,
     "metadata": {},
     "output_type": "execute_result"
    }
   ],
   "source": [
    "s"
   ]
  },
  {
   "cell_type": "code",
   "execution_count": 233,
   "metadata": {
    "ExecuteTime": {
     "end_time": "2020-06-18T16:08:58.120900Z",
     "start_time": "2020-06-18T16:08:58.115712Z"
    }
   },
   "outputs": [
    {
     "data": {
      "text/plain": [
       "0    1\n",
       "1    0\n",
       "2    2\n",
       "3    3\n",
       "4    4\n",
       "5    0\n",
       "dtype: int64"
      ]
     },
     "execution_count": 233,
     "metadata": {},
     "output_type": "execute_result"
    }
   ],
   "source": [
    "s.fillna(0)"
   ]
  },
  {
   "cell_type": "code",
   "execution_count": 235,
   "metadata": {
    "ExecuteTime": {
     "end_time": "2020-06-18T16:09:25.278764Z",
     "start_time": "2020-06-18T16:09:25.273324Z"
    }
   },
   "outputs": [
    {
     "data": {
      "text/plain": [
       "0    1\n",
       "1    1\n",
       "2    2\n",
       "3    3\n",
       "4    4\n",
       "5    4\n",
       "dtype: int64"
      ]
     },
     "execution_count": 235,
     "metadata": {},
     "output_type": "execute_result"
    }
   ],
   "source": [
    "s.fillna(method='ffill')"
   ]
  },
  {
   "cell_type": "code",
   "execution_count": 236,
   "metadata": {
    "ExecuteTime": {
     "end_time": "2020-06-18T16:09:38.827969Z",
     "start_time": "2020-06-18T16:09:38.822350Z"
    }
   },
   "outputs": [
    {
     "data": {
      "text/plain": [
       "0    1.0\n",
       "1    2.0\n",
       "2    2.0\n",
       "3    3.0\n",
       "4    4.0\n",
       "5    NaN\n",
       "dtype: float64"
      ]
     },
     "execution_count": 236,
     "metadata": {},
     "output_type": "execute_result"
    }
   ],
   "source": [
    "s.fillna(method='bfill')"
   ]
  },
  {
   "cell_type": "code",
   "execution_count": 240,
   "metadata": {
    "ExecuteTime": {
     "end_time": "2020-06-18T16:10:23.498966Z",
     "start_time": "2020-06-18T16:10:23.494605Z"
    }
   },
   "outputs": [],
   "source": [
    "data=df.iloc[:5]"
   ]
  },
  {
   "cell_type": "code",
   "execution_count": 245,
   "metadata": {
    "ExecuteTime": {
     "end_time": "2020-06-18T16:10:57.081500Z",
     "start_time": "2020-06-18T16:10:57.077338Z"
    }
   },
   "outputs": [
    {
     "name": "stderr",
     "output_type": "stream",
     "text": [
      "/usr/local/Cellar/jupyterlab/2.1.1/libexec/lib/python3.8/site-packages/pandas/core/indexing.py:671: SettingWithCopyWarning: \n",
      "A value is trying to be set on a copy of a slice from a DataFrame\n",
      "\n",
      "See the caveats in the documentation: https://pandas.pydata.org/pandas-docs/stable/user_guide/indexing.html#returning-a-view-versus-a-copy\n",
      "  self._setitem_with_indexer(indexer, value)\n",
      "<ipython-input-245-8f4b0f89b925>:1: SettingWithCopyWarning: \n",
      "A value is trying to be set on a copy of a slice from a DataFrame\n",
      "\n",
      "See the caveats in the documentation: https://pandas.pydata.org/pandas-docs/stable/user_guide/indexing.html#returning-a-view-versus-a-copy\n",
      "  data.iloc[3,3]=np.nan\n"
     ]
    }
   ],
   "source": [
    "data.iloc[3,3]=np.nan"
   ]
  },
  {
   "cell_type": "code",
   "execution_count": 249,
   "metadata": {
    "ExecuteTime": {
     "end_time": "2020-06-18T16:11:42.611709Z",
     "start_time": "2020-06-18T16:11:42.599643Z"
    }
   },
   "outputs": [
    {
     "data": {
      "text/html": [
       "<div>\n",
       "<style scoped>\n",
       "    .dataframe tbody tr th:only-of-type {\n",
       "        vertical-align: middle;\n",
       "    }\n",
       "\n",
       "    .dataframe tbody tr th {\n",
       "        vertical-align: top;\n",
       "    }\n",
       "\n",
       "    .dataframe thead th {\n",
       "        text-align: right;\n",
       "    }\n",
       "</style>\n",
       "<table border=\"1\" class=\"dataframe\">\n",
       "  <thead>\n",
       "    <tr style=\"text-align: right;\">\n",
       "      <th></th>\n",
       "      <th>a</th>\n",
       "      <th>b</th>\n",
       "      <th>c</th>\n",
       "      <th>d</th>\n",
       "      <th>e</th>\n",
       "    </tr>\n",
       "  </thead>\n",
       "  <tbody>\n",
       "    <tr>\n",
       "      <th>59</th>\n",
       "      <td>0.346774</td>\n",
       "      <td>0.042812</td>\n",
       "      <td>0.315110</td>\n",
       "      <td>0.493397</td>\n",
       "      <td>2.786181</td>\n",
       "    </tr>\n",
       "    <tr>\n",
       "      <th>115</th>\n",
       "      <td>0.746279</td>\n",
       "      <td>0.707427</td>\n",
       "      <td>0.061695</td>\n",
       "      <td>0.609678</td>\n",
       "      <td>3.510846</td>\n",
       "    </tr>\n",
       "    <tr>\n",
       "      <th>235</th>\n",
       "      <td>0.921377</td>\n",
       "      <td>0.615211</td>\n",
       "      <td>0.585090</td>\n",
       "      <td>0.442808</td>\n",
       "      <td>4.410284</td>\n",
       "    </tr>\n",
       "    <tr>\n",
       "      <th>455</th>\n",
       "      <td>0.929652</td>\n",
       "      <td>0.393764</td>\n",
       "      <td>0.198521</td>\n",
       "      <td>0.198521</td>\n",
       "      <td>4.673490</td>\n",
       "    </tr>\n",
       "    <tr>\n",
       "      <th>459</th>\n",
       "      <td>0.086714</td>\n",
       "      <td>0.451087</td>\n",
       "      <td>0.487700</td>\n",
       "      <td>0.499314</td>\n",
       "      <td>1.730083</td>\n",
       "    </tr>\n",
       "  </tbody>\n",
       "</table>\n",
       "</div>"
      ],
      "text/plain": [
       "            a         b         c         d         e\n",
       "59   0.346774  0.042812  0.315110  0.493397  2.786181\n",
       "115  0.746279  0.707427  0.061695  0.609678  3.510846\n",
       "235  0.921377  0.615211  0.585090  0.442808  4.410284\n",
       "455  0.929652  0.393764  0.198521  0.198521  4.673490\n",
       "459  0.086714  0.451087  0.487700  0.499314  1.730083"
      ]
     },
     "execution_count": 249,
     "metadata": {},
     "output_type": "execute_result"
    }
   ],
   "source": [
    "data.fillna(method='ffill',axis=1)"
   ]
  },
  {
   "cell_type": "code",
   "execution_count": 251,
   "metadata": {
    "ExecuteTime": {
     "end_time": "2020-06-18T16:12:22.387549Z",
     "start_time": "2020-06-18T16:12:22.379283Z"
    }
   },
   "outputs": [],
   "source": [
    "data.fillna?"
   ]
  },
  {
   "cell_type": "code",
   "execution_count": null,
   "metadata": {},
   "outputs": [],
   "source": []
  }
 ],
 "metadata": {
  "kernelspec": {
   "display_name": "Python 3",
   "language": "python",
   "name": "python3"
  },
  "language_info": {
   "codemirror_mode": {
    "name": "ipython",
    "version": 3
   },
   "file_extension": ".py",
   "mimetype": "text/x-python",
   "name": "python",
   "nbconvert_exporter": "python",
   "pygments_lexer": "ipython3",
   "version": "3.8.2"
  }
 },
 "nbformat": 4,
 "nbformat_minor": 4
}
