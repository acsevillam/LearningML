{
 "cells": [
  {
   "cell_type": "code",
   "execution_count": 1,
   "metadata": {
    "ExecuteTime": {
     "end_time": "2020-06-22T16:26:11.565161Z",
     "start_time": "2020-06-22T16:26:11.156131Z"
    }
   },
   "outputs": [],
   "source": [
    "import numpy as np\n",
    "import matplotlib.pylab as plt\n",
    "import PIL"
   ]
  },
  {
   "cell_type": "code",
   "execution_count": 2,
   "metadata": {
    "ExecuteTime": {
     "end_time": "2020-06-22T16:26:11.580732Z",
     "start_time": "2020-06-22T16:26:11.567209Z"
    }
   },
   "outputs": [],
   "source": [
    "class life:\n",
    "    def __init__(self,*kwargs):\n",
    "        if len(kwargs)==0:\n",
    "            size=100\n",
    "        else:\n",
    "            size=kwargs[0]\n",
    "        self.conway=np.zeros((size,size))\n",
    "    def timestep(self):\n",
    "        new_co=self.conway.copy()\n",
    "        for i in range(1,len(self.conway)-1):\n",
    "            for j in range(1,len(self.conway)-1):\n",
    "                number=(self.conway[i+1,j]\n",
    "                            +self.conway[i-1,j]\n",
    "                            +self.conway[i+1,j+1]\n",
    "                            +self.conway[i+1,j-1]\n",
    "                            +self.conway[i-1,j+1]\n",
    "                            +self.conway[i-1,j-1]\n",
    "                            +self.conway[i,j+1]\n",
    "                            +self.conway[i,j-1]\n",
    "                            )\n",
    "\n",
    "                if(number==3):\n",
    "                    new_co[i,j]=1\n",
    "                elif(number==2 and self.conway[i,j]==1):\n",
    "                    new_co[i,j]=1\n",
    "                else:\n",
    "                    new_co[i,j]=0\n",
    "        self.conway=new_co\n",
    "    def timestep2(self):\n",
    "        number=np.zeros(self.conway.shape)  \n",
    "        number[1:-1,1:-1]=(self.conway[2:,2:]+self.conway[:-2,:-2]\n",
    "                          +self.conway[:-2,2:]+self.conway[2:,:-2]\n",
    "                          +(self.conway[2:,1:-1]+self.conway[:-2,1:-1]\n",
    "                          +self.conway[1:-1,2:]+self.conway[1:-1,:-2]))\n",
    "\n",
    "        alive=(self.conway==1)\n",
    "        dead=(self.conway==0)\n",
    "        self.conway=np.zeros(self.conway.shape)\n",
    "        self.conway[alive*(number==2)]=1\n",
    "        self.conway[alive*(number==3)]=1\n",
    "        self.conway[dead*(number==3)]=1\n",
    "               \n",
    "    def initial_conditions(self,*kwargs):\n",
    "        print(kwargs,kwargs[0])\n",
    "        self.conway[kwargs[0],kwargs[1]]=1"
   ]
  },
  {
   "cell_type": "code",
   "execution_count": 3,
   "metadata": {
    "ExecuteTime": {
     "end_time": "2020-06-22T16:26:11.760654Z",
     "start_time": "2020-06-22T16:26:11.583155Z"
    }
   },
   "outputs": [
    {
     "name": "stdout",
     "output_type": "stream",
     "text": [
      "([12, 12, 12, 13, 14], [2, 3, 4, 4, 3]) [12, 12, 12, 13, 14]\n"
     ]
    },
    {
     "data": {
      "text/plain": [
       "<matplotlib.image.AxesImage at 0x11b0d4520>"
      ]
     },
     "execution_count": 3,
     "metadata": {},
     "output_type": "execute_result"
    },
    {
     "data": {
      "image/png": "[encoded data removed]",
      "text/plain": [
       "<Figure size 432x288 with 1 Axes>"
      ]
     },
     "metadata": {
      "needs_background": "light"
     },
     "output_type": "display_data"
    }
   ],
   "source": [
    "conway=life(20)\n",
    "x=[12,12,12,13,14]\n",
    "y=[2,3,4,4,3]\n",
    "conway.initial_conditions(x,y)\n",
    "plt.imshow(conway.conway,origin=\"lower\")"
   ]
  },
  {
   "cell_type": "code",
   "execution_count": 4,
   "metadata": {
    "ExecuteTime": {
     "end_time": "2020-06-22T16:26:17.196457Z",
     "start_time": "2020-06-22T16:26:11.763260Z"
    }
   },
   "outputs": [
    {
     "data": {
      "image/png": "[encoded data removed]",
      "text/plain": [
       "<Figure size 432x288 with 1 Axes>"
      ]
     },
     "metadata": {
      "needs_background": "light"
     },
     "output_type": "display_data"
    }
   ],
   "source": [
    "from IPython.display import clear_output\n",
    "for i in range(40):\n",
    "    clear_output(wait=True)\n",
    "    conway.timestep()\n",
    "    plt.imshow(conway.conway,origin=\"lower\")\n",
    "    plt.show()"
   ]
  },
  {
   "cell_type": "code",
   "execution_count": 5,
   "metadata": {
    "ExecuteTime": {
     "end_time": "2020-06-22T16:26:18.935220Z",
     "start_time": "2020-06-22T16:26:17.198415Z"
    }
   },
   "outputs": [
    {
     "data": {
      "image/png": "[encoded data removed]",
      "text/plain": [
       "<Figure size 432x288 with 1 Axes>"
      ]
     },
     "metadata": {
      "needs_background": "light"
     },
     "output_type": "display_data"
    }
   ],
   "source": [
    "conway=life()\n",
    "x=[92,92,92,93,94]\n",
    "y=[2,3,4,4,3]\n",
    "conway.initial_conditions(x,y)\n",
    "plt.imshow(conway.conway,origin=\"lower\")\n",
    "for i in range(10):\n",
    "    clear_output(wait=True)\n",
    "    conway.timestep()\n",
    "    plt.imshow(conway.conway,origin=\"lower\")\n",
    "    plt.show()"
   ]
  },
  {
   "cell_type": "code",
   "execution_count": 6,
   "metadata": {
    "ExecuteTime": {
     "end_time": "2020-06-22T16:26:18.943641Z",
     "start_time": "2020-06-22T16:26:18.937263Z"
    }
   },
   "outputs": [],
   "source": [
    "x=np.array([1,1,2,2,11,11,11,12,12,13,13,14,14,15,16,16,17,17,17,18,21,21,21,22,22,22,23,23,25,25,25,25,35,35,36,36])\n",
    "y=np.array([4,5,4,5,3,4,5,2,6,1,7,1,7,4,2,6,3,4,5,4,5,6,7,5,6,7,4,8,3,4,8,9,6,7,6,7])"
   ]
  },
  {
   "cell_type": "code",
   "execution_count": 7,
   "metadata": {
    "ExecuteTime": {
     "end_time": "2020-06-22T16:26:19.087730Z",
     "start_time": "2020-06-22T16:26:18.945875Z"
    }
   },
   "outputs": [
    {
     "name": "stdout",
     "output_type": "stream",
     "text": [
      "(array([19, 20, 19, 20, 18, 19, 20, 17, 21, 16, 22, 16, 22, 19, 17, 21, 18,\n",
      "       19, 20, 19, 20, 21, 22, 20, 21, 22, 19, 23, 18, 19, 23, 24, 21, 22,\n",
      "       21, 22]), array([ 1,  1,  2,  2, 11, 11, 11, 12, 12, 13, 13, 14, 14, 15, 16, 16, 17,\n",
      "       17, 17, 18, 21, 21, 21, 22, 22, 22, 23, 23, 25, 25, 25, 25, 35, 35,\n",
      "       36, 36])) [19 20 19 20 18 19 20 17 21 16 22 16 22 19 17 21 18 19 20 19 20 21 22 20\n",
      " 21 22 19 23 18 19 23 24 21 22 21 22]\n"
     ]
    },
    {
     "data": {
      "text/plain": [
       "<matplotlib.image.AxesImage at 0x11b1051c0>"
      ]
     },
     "execution_count": 7,
     "metadata": {},
     "output_type": "execute_result"
    },
    {
     "data": {
      "image/png": "[encoded data removed]",
      "text/plain": [
       "<Figure size 432x288 with 1 Axes>"
      ]
     },
     "metadata": {
      "needs_background": "light"
     },
     "output_type": "display_data"
    }
   ],
   "source": [
    "conway=life(40)\n",
    "conway.initial_conditions(y+15,x)\n",
    "plt.imshow(conway.conway,origin=\"lower\")"
   ]
  },
  {
   "cell_type": "code",
   "execution_count": 8,
   "metadata": {
    "ExecuteTime": {
     "end_time": "2020-06-22T16:26:20.504389Z",
     "start_time": "2020-06-22T16:26:19.091369Z"
    }
   },
   "outputs": [
    {
     "data": {
      "image/png": "[encoded data removed]",
      "text/plain": [
       "<Figure size 432x288 with 1 Axes>"
      ]
     },
     "metadata": {
      "needs_background": "light"
     },
     "output_type": "display_data"
    }
   ],
   "source": [
    "for i in range(1000):\n",
    "    clear_output(wait=True)\n",
    "    conway.timestep()\n",
    "    plt.imshow(conway.conway,origin=\"lower\")\n",
    "    plt.show()"
   ]
  },
  {
   "cell_type": "code",
   "execution_count": 9,
   "metadata": {
    "ExecuteTime": {
     "end_time": "2020-06-22T16:26:29.082945Z",
     "start_time": "2020-06-22T16:26:20.506136Z"
    }
   },
   "outputs": [
    {
     "name": "stdout",
     "output_type": "stream",
     "text": [
      "5.41 ms ± 98.5 µs per loop (mean ± std. dev. of 7 runs, 100 loops each)\n",
      "51.2 µs ± 988 ns per loop (mean ± std. dev. of 7 runs, 10000 loops each)\n"
     ]
    }
   ],
   "source": [
    "%timeit conway.timestep()\n",
    "%timeit conway.timestep2()"
   ]
  }
 ],
 "metadata": {
  "kernelspec": {
   "display_name": "Python 3",
   "language": "python",
   "name": "python3"
  },
  "language_info": {
   "codemirror_mode": {
    "name": "ipython",
    "version": 3
   },
   "file_extension": ".py",
   "mimetype": "text/x-python",
   "name": "python",
   "nbconvert_exporter": "python",
   "pygments_lexer": "ipython3",
   "version": "3.8.2"
  }
 },
 "nbformat": 4,
 "nbformat_minor": 4
}
