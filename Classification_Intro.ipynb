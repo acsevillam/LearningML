{
 "cells": [
  {
   "cell_type": "markdown",
   "metadata": {},
   "source": [
    "# MNIST Database\n",
    "###### Still not finished!!\n",
    "\n",
    "\n",
    "This repository has been used as an introductory problem to Machine Learning, it is based on the book _Hands on Machine Learning_. I just added some comments and change some details of the code. \n",
    "\n",
    "\n",
    "This is obviously a classification problem so we have a set of features and a finite set of discrete labels as output.\n",
    "\n",
    "---"
   ]
  },
  {
   "cell_type": "markdown",
   "metadata": {},
   "source": [
    "We import some typical libraries, and we will also import more of them before the use. "
   ]
  },
  {
   "cell_type": "markdown",
   "metadata": {},
   "source": [
    "> We use the _warnings_ method, so as not to have some warnings regarding with future versions of scikit learn."
   ]
  },
  {
   "cell_type": "code",
   "execution_count": 1,
   "metadata": {
    "ExecuteTime": {
     "end_time": "2019-08-12T16:21:35.157190Z",
     "start_time": "2019-08-12T16:21:34.235764Z"
    }
   },
   "outputs": [],
   "source": [
    "from sklearn.datasets import fetch_openml\n",
    "import numpy as np\n",
    "import matplotlib.pylab as plt\n",
    "import warnings\n",
    "warnings.filterwarnings('ignore')"
   ]
  },
  {
   "cell_type": "markdown",
   "metadata": {},
   "source": [
    "We load the data"
   ]
  },
  {
   "cell_type": "code",
   "execution_count": 2,
   "metadata": {
    "ExecuteTime": {
     "end_time": "2019-08-12T16:22:00.533804Z",
     "start_time": "2019-08-12T16:21:35.159153Z"
    }
   },
   "outputs": [],
   "source": [
    "mnist = fetch_openml(\"mnist_784\",version=1)"
   ]
  },
  {
   "cell_type": "markdown",
   "metadata": {},
   "source": [
    "The datasets from scikit learn usually have a dictionary strucure, so we will be able to use the same syntax even if the _datatype_ is not that one"
   ]
  },
  {
   "cell_type": "code",
   "execution_count": 3,
   "metadata": {
    "ExecuteTime": {
     "end_time": "2019-08-12T16:22:00.539737Z",
     "start_time": "2019-08-12T16:22:00.534750Z"
    }
   },
   "outputs": [
    {
     "data": {
      "text/plain": [
       "sklearn.utils.Bunch"
      ]
     },
     "execution_count": 3,
     "metadata": {},
     "output_type": "execute_result"
    }
   ],
   "source": [
    "type(mnist)"
   ]
  },
  {
   "cell_type": "markdown",
   "metadata": {},
   "source": [
    "For instance, if one wants to know which are the possible _keys_,"
   ]
  },
  {
   "cell_type": "code",
   "execution_count": 4,
   "metadata": {
    "ExecuteTime": {
     "end_time": "2019-08-12T16:22:00.555772Z",
     "start_time": "2019-08-12T16:22:00.542744Z"
    }
   },
   "outputs": [
    {
     "data": {
      "text/plain": [
       "dict_keys(['data', 'target', 'feature_names', 'DESCR', 'details', 'categories', 'url'])"
      ]
     },
     "execution_count": 4,
     "metadata": {},
     "output_type": "execute_result"
    }
   ],
   "source": [
    "mnist.keys()"
   ]
  },
  {
   "cell_type": "markdown",
   "metadata": {},
   "source": [
    "We have here a matrix-like array $X$ of dimensions $Samples\\times features$, and a vector-like array $y$ with the labels.\n",
    "\n",
    "A description of the dataset is given on the key \"DESCR\""
   ]
  },
  {
   "cell_type": "code",
   "execution_count": 5,
   "metadata": {
    "ExecuteTime": {
     "end_time": "2019-08-12T16:22:00.573704Z",
     "start_time": "2019-08-12T16:22:00.560739Z"
    }
   },
   "outputs": [
    {
     "data": {
      "text/plain": [
       "\"**Author**: Yann LeCun, Corinna Cortes, Christopher J.C. Burges  \\n**Source**: [MNIST Website](http://yann.lecun.com/exdb/mnist/) - Date unknown  \\n**Please cite**:  \\n\\nThe MNIST database of handwritten digits with 784 features, raw data available at: http://yann.lecun.com/exdb/mnist/. It can be split in a training set of the first 60,000 examples, and a test set of 10,000 examples  \\n\\nIt is a subset of a larger set available from NIST. The digits have been size-normalized and centered in a fixed-size image. It is a good database for people who want to try learning techniques and pattern recognition methods on real-world data while spending minimal efforts on preprocessing and formatting. The original black and white (bilevel) images from NIST were size normalized to fit in a 20x20 pixel box while preserving their aspect ratio. The resulting images contain grey levels as a result of the anti-aliasing technique used by the normalization algorithm. the images were centered in a 28x28 image by computing the center of mass of the pixels, and translating the image so as to position this point at the center of the 28x28 field.  \\n\\nWith some classification methods (particularly template-based methods, such as SVM and K-nearest neighbors), the error rate improves when the digits are centered by bounding box rather than center of mass. If you do this kind of pre-processing, you should report it in your publications. The MNIST database was constructed from NIST's NIST originally designated SD-3 as their training set and SD-1 as their test set. However, SD-3 is much cleaner and easier to recognize than SD-1. The reason for this can be found on the fact that SD-3 was collected among Census Bureau employees, while SD-1 was collected among high-school students. Drawing sensible conclusions from learning experiments requires that the result be independent of the choice of training set and test among the complete set of samples. Therefore it was necessary to build a new database by mixing NIST's datasets.  \\n\\nThe MNIST training set is composed of 30,000 patterns from SD-3 and 30,000 patterns from SD-1. Our test set was composed of 5,000 patterns from SD-3 and 5,000 patterns from SD-1. The 60,000 pattern training set contained examples from approximately 250 writers. We made sure that the sets of writers of the training set and test set were disjoint. SD-1 contains 58,527 digit images written by 500 different writers. In contrast to SD-3, where blocks of data from each writer appeared in sequence, the data in SD-1 is scrambled. Writer identities for SD-1 is available and we used this information to unscramble the writers. We then split SD-1 in two: characters written by the first 250 writers went into our new training set. The remaining 250 writers were placed in our test set. Thus we had two sets with nearly 30,000 examples each. The new training set was completed with enough examples from SD-3, starting at pattern # 0, to make a full set of 60,000 training patterns. Similarly, the new test set was completed with SD-3 examples starting at pattern # 35,000 to make a full set with 60,000 test patterns. Only a subset of 10,000 test images (5,000 from SD-1 and 5,000 from SD-3) is available on this site. The full 60,000 sample training set is available.\\n\\nDownloaded from openml.org.\""
      ]
     },
     "execution_count": 5,
     "metadata": {},
     "output_type": "execute_result"
    }
   ],
   "source": [
    "mnist[\"DESCR\"]"
   ]
  },
  {
   "cell_type": "markdown",
   "metadata": {},
   "source": [
    "Let us rename these two variables, our feature set and the corresponding labels."
   ]
  },
  {
   "cell_type": "code",
   "execution_count": 6,
   "metadata": {
    "ExecuteTime": {
     "end_time": "2019-08-12T16:22:00.587667Z",
     "start_time": "2019-08-12T16:22:00.574715Z"
    }
   },
   "outputs": [],
   "source": [
    "X,y = mnist[\"data\"],mnist[\"target\"]"
   ]
  },
  {
   "cell_type": "markdown",
   "metadata": {
    "ExecuteTime": {
     "end_time": "2019-08-12T14:29:34.717680Z",
     "start_time": "2019-08-12T14:29:34.712694Z"
    }
   },
   "source": [
    "Let us select a particular element so that we will understand better the structure of the data."
   ]
  },
  {
   "cell_type": "code",
   "execution_count": 7,
   "metadata": {
    "ExecuteTime": {
     "end_time": "2019-08-12T16:22:00.603650Z",
     "start_time": "2019-08-12T16:22:00.590661Z"
    }
   },
   "outputs": [],
   "source": [
    "index=41968#np.random.randint(len(y))"
   ]
  },
  {
   "cell_type": "markdown",
   "metadata": {},
   "source": [
    "As we have it random,"
   ]
  },
  {
   "cell_type": "code",
   "execution_count": 8,
   "metadata": {
    "ExecuteTime": {
     "end_time": "2019-08-12T16:22:00.620580Z",
     "start_time": "2019-08-12T16:22:00.604621Z"
    }
   },
   "outputs": [
    {
     "name": "stdout",
     "output_type": "stream",
     "text": [
      "41968\n"
     ]
    }
   ],
   "source": [
    "print(index)"
   ]
  },
  {
   "cell_type": "markdown",
   "metadata": {},
   "source": [
    "So we will save the set of fetarues and its expected output"
   ]
  },
  {
   "cell_type": "code",
   "execution_count": 9,
   "metadata": {
    "ExecuteTime": {
     "end_time": "2019-08-12T16:22:00.631552Z",
     "start_time": "2019-08-12T16:22:00.621577Z"
    }
   },
   "outputs": [],
   "source": [
    "Example=X[index]\n",
    "res=y[index]"
   ]
  },
  {
   "cell_type": "markdown",
   "metadata": {},
   "source": [
    "To visualize the data, we may first ask how it is saved,"
   ]
  },
  {
   "cell_type": "code",
   "execution_count": 10,
   "metadata": {
    "ExecuteTime": {
     "end_time": "2019-08-12T16:22:00.646541Z",
     "start_time": "2019-08-12T16:22:00.633547Z"
    }
   },
   "outputs": [
    {
     "name": "stdout",
     "output_type": "stream",
     "text": [
      "(784,) <class 'numpy.ndarray'> <class 'numpy.float64'>\n"
     ]
    }
   ],
   "source": [
    "print(np.shape(Example),type(Example),type(Example[0]))"
   ]
  },
  {
   "cell_type": "markdown",
   "metadata": {},
   "source": [
    "But we were expecting a set of _pictures_ of handwritten numbers as it says on the description, so let us reshape this array"
   ]
  },
  {
   "cell_type": "code",
   "execution_count": 11,
   "metadata": {
    "ExecuteTime": {
     "end_time": "2019-08-12T16:22:00.661610Z",
     "start_time": "2019-08-12T16:22:00.648512Z"
    }
   },
   "outputs": [],
   "source": [
    "Example_im=Example.reshape(28,28)"
   ]
  },
  {
   "cell_type": "markdown",
   "metadata": {},
   "source": [
    "If we now plot this matrix-like array,"
   ]
  },
  {
   "cell_type": "code",
   "execution_count": 12,
   "metadata": {
    "ExecuteTime": {
     "end_time": "2019-08-12T16:22:00.743424Z",
     "start_time": "2019-08-12T16:22:00.662608Z"
    }
   },
   "outputs": [
    {
     "data": {
      "image/png": "[encoded data removed]",
      "text/plain": [
       "<Figure size 432x288 with 1 Axes>"
      ]
     },
     "metadata": {
      "needs_background": "light"
     },
     "output_type": "display_data"
    }
   ],
   "source": [
    "plt.imshow(Example_im)\n",
    "plt.axis(\"off\")\n",
    "plt.show()"
   ]
  },
  {
   "cell_type": "markdown",
   "metadata": {},
   "source": [
    "There you go, the pictures are saved as a 1 dimensional array!, now let us explore the labels"
   ]
  },
  {
   "cell_type": "code",
   "execution_count": 13,
   "metadata": {
    "ExecuteTime": {
     "end_time": "2019-08-12T16:22:00.748395Z",
     "start_time": "2019-08-12T16:22:00.744395Z"
    }
   },
   "outputs": [
    {
     "name": "stdout",
     "output_type": "stream",
     "text": [
      "3 <class 'str'>\n"
     ]
    }
   ],
   "source": [
    "print(res,type(res))"
   ]
  },
  {
   "cell_type": "markdown",
   "metadata": {},
   "source": [
    "We are not very interested on strings, so let us convert the complete array to int"
   ]
  },
  {
   "cell_type": "code",
   "execution_count": 14,
   "metadata": {
    "ExecuteTime": {
     "end_time": "2019-08-12T16:22:00.768329Z",
     "start_time": "2019-08-12T16:22:00.750377Z"
    }
   },
   "outputs": [],
   "source": [
    "y=y.astype(np.int)"
   ]
  },
  {
   "cell_type": "code",
   "execution_count": 15,
   "metadata": {
    "ExecuteTime": {
     "end_time": "2019-08-12T16:22:00.782629Z",
     "start_time": "2019-08-12T16:22:00.769365Z"
    }
   },
   "outputs": [
    {
     "data": {
      "text/plain": [
       "70000"
      ]
     },
     "execution_count": 15,
     "metadata": {},
     "output_type": "execute_result"
    }
   ],
   "source": [
    "len(y)"
   ]
  },
  {
   "cell_type": "markdown",
   "metadata": {},
   "source": [
    "As we want to train a model and then test how good it is, we may separate the data set on a training part and a test part. The test part is separated from the train data in order to see how good our model behaves on a data from _The same nature_, but without having  "
   ]
  },
  {
   "cell_type": "code",
   "execution_count": 16,
   "metadata": {
    "ExecuteTime": {
     "end_time": "2019-08-12T16:22:00.822636Z",
     "start_time": "2019-08-12T16:22:00.783608Z"
    }
   },
   "outputs": [],
   "source": [
    "from sklearn.model_selection import train_test_split"
   ]
  },
  {
   "cell_type": "code",
   "execution_count": 17,
   "metadata": {
    "ExecuteTime": {
     "end_time": "2019-08-12T16:22:01.602294Z",
     "start_time": "2019-08-12T16:22:00.824342Z"
    }
   },
   "outputs": [],
   "source": [
    "X_train,X_test,y_train,y_test = train_test_split(X,y,test_size=0.2)"
   ]
  },
  {
   "cell_type": "code",
   "execution_count": 18,
   "metadata": {
    "ExecuteTime": {
     "end_time": "2019-08-12T16:22:01.612247Z",
     "start_time": "2019-08-12T16:22:01.608249Z"
    }
   },
   "outputs": [
    {
     "name": "stdout",
     "output_type": "stream",
     "text": [
      "(56000, 784) (14000, 784)\n"
     ]
    }
   ],
   "source": [
    "print(np.shape(X_train),np.shape(X_test))"
   ]
  },
  {
   "cell_type": "code",
   "execution_count": 19,
   "metadata": {
    "ExecuteTime": {
     "end_time": "2019-08-12T16:22:01.629195Z",
     "start_time": "2019-08-12T16:22:01.618225Z"
    }
   },
   "outputs": [],
   "source": [
    "y_train_3=(y_train==3)\n",
    "y_test_3=(y_test==3)"
   ]
  },
  {
   "cell_type": "markdown",
   "metadata": {},
   "source": [
    "# Stochastic Gradient Descent\n",
    "\n",
    "As you will see later, changing between methods using SKLearn is extremely easy, so we just chose one (highly optimized) but it will make sense later. "
   ]
  },
  {
   "cell_type": "code",
   "execution_count": 20,
   "metadata": {
    "ExecuteTime": {
     "end_time": "2019-08-12T16:22:01.706059Z",
     "start_time": "2019-08-12T16:22:01.631191Z"
    }
   },
   "outputs": [],
   "source": [
    "import sklearn.linear_model"
   ]
  },
  {
   "cell_type": "code",
   "execution_count": 21,
   "metadata": {
    "ExecuteTime": {
     "end_time": "2019-08-12T16:22:01.710013Z",
     "start_time": "2019-08-12T16:22:01.706990Z"
    }
   },
   "outputs": [
    {
     "name": "stdout",
     "output_type": "stream",
     "text": [
      "['ARDRegression', 'BayesianRidge', 'ElasticNet', 'ElasticNetCV', 'Hinge', 'Huber', 'HuberRegressor', 'Lars', 'LarsCV', 'Lasso', 'LassoCV', 'LassoLars', 'LassoLarsCV', 'LassoLarsIC', 'LinearRegression', 'Log', 'LogisticRegression', 'LogisticRegressionCV', 'ModifiedHuber', 'MultiTaskElasticNet', 'MultiTaskElasticNetCV', 'MultiTaskLasso', 'MultiTaskLassoCV', 'OrthogonalMatchingPursuit', 'OrthogonalMatchingPursuitCV', 'PassiveAggressiveClassifier', 'PassiveAggressiveRegressor', 'Perceptron', 'RANSACRegressor', 'RandomizedLasso', 'RandomizedLogisticRegression', 'Ridge', 'RidgeCV', 'RidgeClassifier', 'RidgeClassifierCV', 'SGDClassifier', 'SGDRegressor', 'SquaredLoss', 'TheilSenRegressor', '__all__', '__builtins__', '__cached__', '__doc__', '__file__', '__loader__', '__name__', '__package__', '__path__', '__spec__', 'base', 'bayes', 'cd_fast', 'coordinate_descent', 'enet_path', 'huber', 'lars_path', 'lasso_path', 'lasso_stability_path', 'least_angle', 'logistic', 'logistic_regression_path', 'omp', 'orthogonal_mp', 'orthogonal_mp_gram', 'passive_aggressive', 'perceptron', 'randomized_l1', 'ransac', 'ridge', 'ridge_regression', 'sag', 'sag_fast', 'sgd_fast', 'stochastic_gradient', 'theil_sen']\n"
     ]
    }
   ],
   "source": [
    "print(dir(sklearn.linear_model))"
   ]
  },
  {
   "cell_type": "markdown",
   "metadata": {},
   "source": [
    "So, we import our classifier"
   ]
  },
  {
   "cell_type": "code",
   "execution_count": 22,
   "metadata": {
    "ExecuteTime": {
     "end_time": "2019-08-12T16:22:01.728935Z",
     "start_time": "2019-08-12T16:22:01.711978Z"
    }
   },
   "outputs": [],
   "source": [
    "from sklearn.linear_model import SGDClassifier"
   ]
  },
  {
   "cell_type": "markdown",
   "metadata": {
    "ExecuteTime": {
     "end_time": "2019-08-12T15:11:06.246664Z",
     "start_time": "2019-08-12T15:11:06.241648Z"
    }
   },
   "source": [
    "And create it,"
   ]
  },
  {
   "cell_type": "code",
   "execution_count": 23,
   "metadata": {
    "ExecuteTime": {
     "end_time": "2019-08-12T16:22:01.743893Z",
     "start_time": "2019-08-12T16:22:01.730928Z"
    }
   },
   "outputs": [],
   "source": [
    "sgd_clf = SGDClassifier(random_state=3)"
   ]
  },
  {
   "cell_type": "markdown",
   "metadata": {},
   "source": [
    "The training is as simple as, (This is why sklearn is so good, the syntax will be very similar no matter if we want clustering, classification, regression etc)"
   ]
  },
  {
   "cell_type": "code",
   "execution_count": 24,
   "metadata": {
    "ExecuteTime": {
     "end_time": "2019-08-12T16:22:02.226204Z",
     "start_time": "2019-08-12T16:22:01.744890Z"
    }
   },
   "outputs": [
    {
     "data": {
      "text/plain": [
       "SGDClassifier(alpha=0.0001, average=False, class_weight=None,\n",
       "       early_stopping=False, epsilon=0.1, eta0=0.0, fit_intercept=True,\n",
       "       l1_ratio=0.15, learning_rate='optimal', loss='hinge', max_iter=None,\n",
       "       n_iter=None, n_iter_no_change=5, n_jobs=None, penalty='l2',\n",
       "       power_t=0.5, random_state=3, shuffle=True, tol=None,\n",
       "       validation_fraction=0.1, verbose=0, warm_start=False)"
      ]
     },
     "execution_count": 24,
     "metadata": {},
     "output_type": "execute_result"
    }
   ],
   "source": [
    "sgd_clf.fit(X_train,y_train_3)"
   ]
  },
  {
   "cell_type": "markdown",
   "metadata": {},
   "source": [
    "Let us make a small test, with the picture we plotted before"
   ]
  },
  {
   "cell_type": "code",
   "execution_count": 25,
   "metadata": {
    "ExecuteTime": {
     "end_time": "2019-08-12T16:22:02.233186Z",
     "start_time": "2019-08-12T16:22:02.227201Z"
    }
   },
   "outputs": [
    {
     "data": {
      "text/plain": [
       "array([ True])"
      ]
     },
     "execution_count": 25,
     "metadata": {},
     "output_type": "execute_result"
    }
   ],
   "source": [
    "sgd_clf.predict([Example])"
   ]
  },
  {
   "cell_type": "markdown",
   "metadata": {},
   "source": [
    "`True` means 3!!"
   ]
  },
  {
   "cell_type": "code",
   "execution_count": 26,
   "metadata": {
    "ExecuteTime": {
     "end_time": "2019-08-12T16:22:02.255157Z",
     "start_time": "2019-08-12T16:22:02.235206Z"
    }
   },
   "outputs": [
    {
     "data": {
      "text/plain": [
       "'3'"
      ]
     },
     "execution_count": 26,
     "metadata": {},
     "output_type": "execute_result"
    }
   ],
   "source": [
    "res"
   ]
  },
  {
   "cell_type": "markdown",
   "metadata": {},
   "source": [
    "## Cross Validation\n",
    "One of the most powerfull tools sklearn has is the cross validation, I'll try to explain it very shallowly.\n",
    "\n",
    "> How can we know that we choose a good training set?\n",
    ">\n",
    "> Is there any bias on the portion of the data we took?\n",
    "\n",
    "To solve these issues, the cross validation repeats the complete training part for different training sets, there are different ways to do so, for example if we take the data in order, we may have that the training set is the first 80% and the test the last 20%, but we can repeat the procedure having the training as the last 80% and taking as test the first 20%, Which one is better?, in principle both are equivalent but the performance may be different, we can have different accuracy in both cases, so, which one shall we use?, it is common to choose the average!.\n",
    "\n"
   ]
  },
  {
   "cell_type": "code",
   "execution_count": 27,
   "metadata": {
    "ExecuteTime": {
     "end_time": "2019-08-12T16:22:02.271085Z",
     "start_time": "2019-08-12T16:22:02.256125Z"
    }
   },
   "outputs": [],
   "source": [
    "from sklearn.model_selection import cross_val_score"
   ]
  },
  {
   "cell_type": "markdown",
   "metadata": {},
   "source": [
    "We perform the cross validation with the training data, so that the parameters on each case is different and tested.\n",
    "\n",
    "I think we will spend a lot of time later on this topic, but it is important to get used to the terms and syntax!"
   ]
  },
  {
   "cell_type": "code",
   "execution_count": 28,
   "metadata": {
    "ExecuteTime": {
     "end_time": "2019-08-12T16:22:08.229984Z",
     "start_time": "2019-08-12T16:22:02.272083Z"
    }
   },
   "outputs": [
    {
     "data": {
      "text/plain": [
       "array([0.96054276, 0.96232816, 0.96678571, 0.95482143, 0.96696429,\n",
       "       0.94892857, 0.95464286, 0.96285714, 0.96820861, 0.96035006])"
      ]
     },
     "execution_count": 28,
     "metadata": {},
     "output_type": "execute_result"
    }
   ],
   "source": [
    "cross_val_score(sgd_clf,X_train,y_train_3,cv=10,scoring=\"accuracy\")"
   ]
  },
  {
   "cell_type": "markdown",
   "metadata": {},
   "source": [
    "In order to know how good is our model, we use a cross validation for the fitting, and then the prediction"
   ]
  },
  {
   "cell_type": "code",
   "execution_count": 29,
   "metadata": {
    "ExecuteTime": {
     "end_time": "2019-08-12T16:22:08.233974Z",
     "start_time": "2019-08-12T16:22:08.230950Z"
    }
   },
   "outputs": [],
   "source": [
    "from sklearn.model_selection import cross_val_predict"
   ]
  },
  {
   "cell_type": "code",
   "execution_count": 30,
   "metadata": {
    "ExecuteTime": {
     "end_time": "2019-08-12T16:22:14.239633Z",
     "start_time": "2019-08-12T16:22:08.234939Z"
    }
   },
   "outputs": [],
   "source": [
    "y_train_pred=cross_val_predict(sgd_clf,X_train,y_train_3,cv=10)"
   ]
  },
  {
   "cell_type": "markdown",
   "metadata": {},
   "source": [
    "## Confusion Matrix\n",
    "\n",
    "It is important to know where are our mistakes, for example, as we are looking for 3's, we may distinguish if we predicted a 3 but it was different or if we predicted different but it was actually a 3, that may help us to understand better our model. This is basically the __confusion matrix__."
   ]
  },
  {
   "cell_type": "code",
   "execution_count": 31,
   "metadata": {
    "ExecuteTime": {
     "end_time": "2019-08-12T16:22:14.243592Z",
     "start_time": "2019-08-12T16:22:14.240600Z"
    }
   },
   "outputs": [],
   "source": [
    "from sklearn.metrics import confusion_matrix"
   ]
  },
  {
   "cell_type": "markdown",
   "metadata": {},
   "source": [
    "Let us plot and print it."
   ]
  },
  {
   "cell_type": "code",
   "execution_count": 32,
   "metadata": {
    "ExecuteTime": {
     "end_time": "2019-08-12T16:22:14.445999Z",
     "start_time": "2019-08-12T16:22:14.245588Z"
    }
   },
   "outputs": [
    {
     "name": "stdout",
     "output_type": "stream",
     "text": [
      "[[49888   420]\n",
      " [ 1784  3908]]\n"
     ]
    },
    {
     "data": {
      "image/png": "[encoded data removed]",
      "text/plain": [
       "<Figure size 432x288 with 2 Axes>"
      ]
     },
     "metadata": {
      "needs_background": "light"
     },
     "output_type": "display_data"
    }
   ],
   "source": [
    "C_matrix=confusion_matrix(y_train_3,y_train_pred)\n",
    "pl=plt.imshow(C_matrix)\n",
    "plt.colorbar(pl)\n",
    "print(C_matrix)"
   ]
  },
  {
   "cell_type": "code",
   "execution_count": 46,
   "metadata": {
    "ExecuteTime": {
     "end_time": "2019-08-12T16:29:25.061213Z",
     "start_time": "2019-08-12T16:29:25.054248Z"
    }
   },
   "outputs": [
    {
     "name": "stdout",
     "output_type": "stream",
     "text": [
      "Predicted not 3 and It is not 3 =  49888\n",
      "Predicted not 3 and It is     3 =  420\n",
      "Predicted     3 and It is not 3 =  1784\n",
      "Predicted     3 and It is     3 =  3908\n"
     ]
    }
   ],
   "source": [
    "N,M=np.shape(C_matrix)\n",
    "texts=[\"Predicted\", \" and It is\"]\n",
    "sol =[\"not 3\",\"    3\"]\n",
    "for i in range(N):\n",
    "    for j in range(M):\n",
    "        print(texts[0]+' '+sol[i]+texts[1]+' '+sol[j]+\" = \", C_matrix[i,j])"
   ]
  },
  {
   "cell_type": "markdown",
   "metadata": {},
   "source": [
    "So, it can be read as,"
   ]
  },
  {
   "cell_type": "markdown",
   "metadata": {},
   "source": [
    "<style type=\"text/css\">\n",
    ".tg  {border-collapse:collapse;border-spacing:0;}\n",
    ".tg td{font-family:Arial, sans-serif;font-size:14px;padding:10px 5px;border-style:solid;border-width:0px;overflow:hidden;word-break:normal;}\n",
    ".tg th{font-family:Arial, sans-serif;font-size:14px;font-weight:normal;padding:10px 5px;border-style:solid;border-width:0px;overflow:hidden;word-break:normal;}\n",
    ".tg .tg-cly1{text-align:left;vertical-align:middle}\n",
    ".tg .tg-lboi{border-color:inherit;text-align:left;vertical-align:middle}\n",
    ".tg .tg-0a7q{border-color:#000000;text-align:left;vertical-align:middle}\n",
    "</style>\n",
    "<table class=\"tg\">\n",
    "  <tr>\n",
    "    <td class=\"tg-cly1\" colspan=\"2\" rowspan=\"2\"></td>\n",
    "    <td class=\"tg-lboi\" colspan=\"2\">Predicted</td>\n",
    "  </tr>\n",
    "  <tr>\n",
    "    <td class=\"tg-0a7q\">Negative</td>\n",
    "    <td class=\"tg-0a7q\">Positive</td>\n",
    "  </tr>\n",
    "  <tr>\n",
    "    <td class=\"tg-0a7q\" rowspan=\"2\">Actual</td>\n",
    "    <td class=\"tg-lboi\">Negative</td>\n",
    "    <td class=\"tg-lboi\">TN</td>\n",
    "    <td class=\"tg-lboi\">FP</td>\n",
    "  </tr>\n",
    "  <tr>\n",
    "    <td class=\"tg-lboi\">Positive</td>\n",
    "    <td class=\"tg-lboi\">FN</td>\n",
    "    <td class=\"tg-lboi\">TP</td>\n",
    "  </tr>\n",
    "</table>\n"
   ]
  },
  {
   "cell_type": "markdown",
   "metadata": {},
   "source": [
    "We now introduce some concepts, first how many positives where true positives\n",
    "$$\n",
    "\\text{Precision}=\\frac{TP}{TP+FP} \n",
    "$$\n",
    "\n",
    "And how many positives from the total positives\n",
    "\n",
    "$$\n",
    "\\text{Recall}=\\frac{TP}{TP+FN} \n",
    "$$"
   ]
  },
  {
   "cell_type": "markdown",
   "metadata": {},
   "source": [
    "One can calculate them, but SKLearn already have them implemented,"
   ]
  },
  {
   "cell_type": "code",
   "execution_count": 47,
   "metadata": {
    "ExecuteTime": {
     "end_time": "2019-08-12T16:33:15.856245Z",
     "start_time": "2019-08-12T16:33:15.853250Z"
    }
   },
   "outputs": [],
   "source": [
    "from sklearn.metrics import precision_score,recall_score"
   ]
  },
  {
   "cell_type": "code",
   "execution_count": 48,
   "metadata": {
    "ExecuteTime": {
     "end_time": "2019-08-12T16:33:16.244086Z",
     "start_time": "2019-08-12T16:33:16.229123Z"
    }
   },
   "outputs": [
    {
     "data": {
      "text/plain": [
       "0.9029574861367837"
      ]
     },
     "execution_count": 48,
     "metadata": {},
     "output_type": "execute_result"
    }
   ],
   "source": [
    "precision_score(y_train_3,y_train_pred)"
   ]
  },
  {
   "cell_type": "code",
   "execution_count": 50,
   "metadata": {
    "ExecuteTime": {
     "end_time": "2019-08-12T16:33:18.249835Z",
     "start_time": "2019-08-12T16:33:18.237839Z"
    }
   },
   "outputs": [
    {
     "data": {
      "text/plain": [
       "0.6865776528460998"
      ]
     },
     "execution_count": 50,
     "metadata": {},
     "output_type": "execute_result"
    }
   ],
   "source": [
    "recall_score(y_train_3,y_train_pred)"
   ]
  },
  {
   "cell_type": "markdown",
   "metadata": {},
   "source": [
    "One would like to have them near to one, which would mean that all the positives are predicted as positive, and non negative is predicted as positive.\n",
    "\n",
    "So a combination of them may be useful, thats called the _Harmonic mean_\n",
    "$$\n",
    "F_{1}=\\frac{2}{\\frac{1}{\\text { precision }}+\\frac{1}{\\text { recall }}}=2 \\times \\frac{\\text { precision } \\times \\text { recall }}{\\text { precision }+\\text { recall }}=\\frac{T P}{T P+\\frac{F N+F P}{2}}\n",
    "$$"
   ]
  },
  {
   "cell_type": "code",
   "execution_count": 51,
   "metadata": {
    "ExecuteTime": {
     "end_time": "2019-08-12T16:35:41.010273Z",
     "start_time": "2019-08-12T16:35:41.005287Z"
    }
   },
   "outputs": [],
   "source": [
    "from sklearn.metrics import f1_score"
   ]
  },
  {
   "cell_type": "code",
   "execution_count": 54,
   "metadata": {
    "ExecuteTime": {
     "end_time": "2019-08-12T16:36:34.200436Z",
     "start_time": "2019-08-12T16:36:34.186474Z"
    }
   },
   "outputs": [
    {
     "data": {
      "text/plain": [
       "0.7800399201596806"
      ]
     },
     "execution_count": 54,
     "metadata": {},
     "output_type": "execute_result"
    }
   ],
   "source": [
    "f1_score(y_train_3,y_train_pred)"
   ]
  },
  {
   "cell_type": "markdown",
   "metadata": {},
   "source": [
    "Each of these predictions has its own precision (a percentage of certainty), so we can have that the output of a predictio is _True_ with a 60% of _confidence_ (This is a very important word that will have a clear meaning later). But 60% may not be good enough for us, that depends on the specific problem, so we can establish a threshold, and a _decision function_ that takes that threshold into account!."
   ]
  },
  {
   "cell_type": "code",
   "execution_count": 53,
   "metadata": {
    "ExecuteTime": {
     "end_time": "2019-08-12T16:36:09.047529Z",
     "start_time": "2019-08-12T16:36:07.428995Z"
    }
   },
   "outputs": [],
   "source": [
    "y_scores = cross_val_predict(sgd_clf, X_train, y_train_3, cv=3,method=\"decision_function\")"
   ]
  },
  {
   "cell_type": "markdown",
   "metadata": {},
   "source": [
    "Let us see how SKLearn do this for us!"
   ]
  },
  {
   "cell_type": "code",
   "execution_count": 55,
   "metadata": {
    "ExecuteTime": {
     "end_time": "2019-08-12T16:40:13.945987Z",
     "start_time": "2019-08-12T16:40:13.942004Z"
    }
   },
   "outputs": [],
   "source": [
    "from sklearn.metrics import precision_recall_curve"
   ]
  },
  {
   "cell_type": "code",
   "execution_count": 56,
   "metadata": {
    "ExecuteTime": {
     "end_time": "2019-08-12T16:40:16.244224Z",
     "start_time": "2019-08-12T16:40:16.230262Z"
    }
   },
   "outputs": [],
   "source": [
    "precisions, recalls, thresholds = precision_recall_curve(y_train_3, y_scores)"
   ]
  },
  {
   "cell_type": "code",
   "execution_count": 59,
   "metadata": {
    "ExecuteTime": {
     "end_time": "2019-08-12T16:41:54.707753Z",
     "start_time": "2019-08-12T16:41:54.702769Z"
    }
   },
   "outputs": [],
   "source": [
    "f1=2.0/((1./precisions)+(1./recalls))"
   ]
  },
  {
   "cell_type": "code",
   "execution_count": 63,
   "metadata": {
    "ExecuteTime": {
     "end_time": "2019-08-12T16:43:52.055057Z",
     "start_time": "2019-08-12T16:43:51.621137Z"
    }
   },
   "outputs": [
    {
     "data": {
      "image/png": "[encoded data removed]",
      "text/plain": [
       "<Figure size 432x288 with 1 Axes>"
      ]
     },
     "metadata": {
      "needs_background": "light"
     },
     "output_type": "display_data"
    }
   ],
   "source": [
    "plt.plot(thresholds, precisions[:-1], \"b--\", label=\"Precision\")\n",
    "plt.plot(plt.plot(thresholds, recalls[:-1], \"g-\", label=\"Recall\")\n",
    ", recalls[:-1], \"g-\", label=\"Recall\")\n",
    "plt.plot(thresholds, f1[:-1], \"k-.\", label=\"$F_1$\")\n",
    "plt.xlabel(\"Thresholds\")\n",
    "plt.legend()\n",
    "plt.show()"
   ]
  },
  {
   "cell_type": "markdown",
   "metadata": {},
   "source": [
    "Which threshold shall we use, it is commonly plotted Precision vs Recalls, for example before the large fall $\\text{recall} \\approx 0.6$"
   ]
  },
  {
   "cell_type": "code",
   "execution_count": 77,
   "metadata": {
    "ExecuteTime": {
     "end_time": "2019-08-12T16:47:39.675431Z",
     "start_time": "2019-08-12T16:47:39.529820Z"
    }
   },
   "outputs": [
    {
     "data": {
      "text/plain": [
       "<matplotlib.lines.Line2D at 0x1f081b296a0>"
      ]
     },
     "execution_count": 77,
     "metadata": {},
     "output_type": "execute_result"
    },
    {
     "data": {
      "image/png": "[encoded data removed]",
      "text/plain": [
       "<Figure size 432x288 with 1 Axes>"
      ]
     },
     "metadata": {
      "needs_background": "light"
     },
     "output_type": "display_data"
    }
   ],
   "source": [
    "plt.plot(recalls,precisions)\n",
    "plt.axvline(0.6,color=\"C1\")\n",
    "plt.axhline(precisions[np.where(np.abs(recalls-0.6)<0.0001)],color=\"C1\")"
   ]
  },
  {
   "cell_type": "code",
   "execution_count": 78,
   "metadata": {
    "ExecuteTime": {
     "end_time": "2019-08-12T16:48:02.058376Z",
     "start_time": "2019-08-12T16:48:02.054387Z"
    }
   },
   "outputs": [],
   "source": [
    "threshold_90_precision = thresholds[np.argmax(precisions >= 0.90)]"
   ]
  },
  {
   "cell_type": "code",
   "execution_count": 79,
   "metadata": {
    "ExecuteTime": {
     "end_time": "2019-08-12T16:48:07.991315Z",
     "start_time": "2019-08-12T16:48:07.987355Z"
    }
   },
   "outputs": [],
   "source": [
    "y_train_pred_90 = (y_scores >= threshold_90_precision)"
   ]
  },
  {
   "cell_type": "code",
   "execution_count": 81,
   "metadata": {
    "ExecuteTime": {
     "end_time": "2019-08-12T16:48:16.299317Z",
     "start_time": "2019-08-12T16:48:16.285331Z"
    }
   },
   "outputs": [
    {
     "data": {
      "text/plain": [
       "0.9000935891436593"
      ]
     },
     "execution_count": 81,
     "metadata": {},
     "output_type": "execute_result"
    }
   ],
   "source": [
    "precision_score(y_train_3, y_train_pred_90)"
   ]
  },
  {
   "cell_type": "code",
   "execution_count": 83,
   "metadata": {
    "ExecuteTime": {
     "end_time": "2019-08-12T16:48:23.995416Z",
     "start_time": "2019-08-12T16:48:23.981454Z"
    }
   },
   "outputs": [
    {
     "data": {
      "text/plain": [
       "0.6758608573436402"
      ]
     },
     "execution_count": 83,
     "metadata": {},
     "output_type": "execute_result"
    }
   ],
   "source": [
    "recall_score(y_train_3, y_train_pred_90)"
   ]
  },
  {
   "cell_type": "markdown",
   "metadata": {},
   "source": [
    "# Multiclass Classification"
   ]
  },
  {
   "cell_type": "code",
   "execution_count": 84,
   "metadata": {
    "ExecuteTime": {
     "end_time": "2019-08-12T16:50:04.657444Z",
     "start_time": "2019-08-12T16:50:01.116393Z"
    }
   },
   "outputs": [
    {
     "data": {
      "text/plain": [
       "SGDClassifier(alpha=0.0001, average=False, class_weight=None,\n",
       "       early_stopping=False, epsilon=0.1, eta0=0.0, fit_intercept=True,\n",
       "       l1_ratio=0.15, learning_rate='optimal', loss='hinge', max_iter=None,\n",
       "       n_iter=None, n_iter_no_change=5, n_jobs=None, penalty='l2',\n",
       "       power_t=0.5, random_state=3, shuffle=True, tol=None,\n",
       "       validation_fraction=0.1, verbose=0, warm_start=False)"
      ]
     },
     "execution_count": 84,
     "metadata": {},
     "output_type": "execute_result"
    }
   ],
   "source": [
    "sgd_clf.fit(X_train,y_train)"
   ]
  },
  {
   "cell_type": "code",
   "execution_count": 85,
   "metadata": {
    "ExecuteTime": {
     "end_time": "2019-08-12T16:50:12.968210Z",
     "start_time": "2019-08-12T16:50:12.962225Z"
    }
   },
   "outputs": [
    {
     "data": {
      "text/plain": [
       "array([3])"
      ]
     },
     "execution_count": 85,
     "metadata": {},
     "output_type": "execute_result"
    }
   ],
   "source": [
    "\n",
    "sgd_clf.predict([Example])"
   ]
  },
  {
   "cell_type": "code",
   "execution_count": 86,
   "metadata": {
    "ExecuteTime": {
     "end_time": "2019-08-12T16:50:39.001774Z",
     "start_time": "2019-08-12T16:50:38.996347Z"
    }
   },
   "outputs": [],
   "source": [
    "Example_Scores=sgd_clf.decision_function([Example])"
   ]
  },
  {
   "cell_type": "code",
   "execution_count": 87,
   "metadata": {
    "ExecuteTime": {
     "end_time": "2019-08-12T16:50:47.993703Z",
     "start_time": "2019-08-12T16:50:47.988691Z"
    }
   },
   "outputs": [
    {
     "name": "stdout",
     "output_type": "stream",
     "text": [
      "[[-514978.86067736 -361015.94655605 -347180.09198417  499866.76846105\n",
      "  -560563.84901299 -347973.08968469 -604327.66799667 -314758.86222373\n",
      "  -683785.11304191 -470148.61050415]]\n"
     ]
    }
   ],
   "source": [
    "print(Example_Scores)"
   ]
  },
  {
   "cell_type": "code",
   "execution_count": 88,
   "metadata": {
    "ExecuteTime": {
     "end_time": "2019-08-12T16:51:51.171140Z",
     "start_time": "2019-08-12T16:51:51.165156Z"
    }
   },
   "outputs": [
    {
     "data": {
      "text/plain": [
       "3"
      ]
     },
     "execution_count": 88,
     "metadata": {},
     "output_type": "execute_result"
    }
   ],
   "source": [
    "np.argmax(Example_Scores)"
   ]
  },
  {
   "cell_type": "code",
   "execution_count": 90,
   "metadata": {
    "ExecuteTime": {
     "end_time": "2019-08-12T16:52:40.227442Z",
     "start_time": "2019-08-12T16:52:40.222423Z"
    }
   },
   "outputs": [
    {
     "data": {
      "text/plain": [
       "array([0, 1, 2, 3, 4, 5, 6, 7, 8, 9])"
      ]
     },
     "execution_count": 90,
     "metadata": {},
     "output_type": "execute_result"
    }
   ],
   "source": [
    "sgd_clf.classes_"
   ]
  },
  {
   "cell_type": "code",
   "execution_count": 92,
   "metadata": {
    "ExecuteTime": {
     "end_time": "2019-08-12T16:52:53.118485Z",
     "start_time": "2019-08-12T16:52:53.115501Z"
    }
   },
   "outputs": [],
   "source": [
    "from sklearn.preprocessing import StandardScaler"
   ]
  },
  {
   "cell_type": "code",
   "execution_count": 95,
   "metadata": {
    "ExecuteTime": {
     "end_time": "2019-08-12T16:55:03.644199Z",
     "start_time": "2019-08-12T16:54:28.155026Z"
    }
   },
   "outputs": [
    {
     "data": {
      "text/plain": [
       "array([0.91452534, 0.90986971, 0.9175    , 0.90964286, 0.91142857,\n",
       "       0.9125    , 0.91035714, 0.90910714, 0.91336191, 0.90616622])"
      ]
     },
     "execution_count": 95,
     "metadata": {},
     "output_type": "execute_result"
    }
   ],
   "source": [
    "scaler=StandardScaler()\n",
    "X_train_scaled=scaler.fit_transform(X_train.astype(np.float64))\n",
    "cross_val_score(sgd_clf,X_train_scaled,y_train,cv=10,scoring='accuracy')"
   ]
  },
  {
   "cell_type": "code",
   "execution_count": 96,
   "metadata": {
    "ExecuteTime": {
     "end_time": "2019-08-12T16:55:11.694291Z",
     "start_time": "2019-08-12T16:55:03.964850Z"
    }
   },
   "outputs": [],
   "source": [
    "y_train_pred = cross_val_predict(sgd_clf, X_train_scaled, y_train, cv=3)"
   ]
  },
  {
   "cell_type": "code",
   "execution_count": 97,
   "metadata": {
    "ExecuteTime": {
     "end_time": "2019-08-12T16:55:31.249893Z",
     "start_time": "2019-08-12T16:55:31.206032Z"
    }
   },
   "outputs": [],
   "source": [
    "C_matrix=confusion_matrix(y_train,y_train_pred)"
   ]
  },
  {
   "cell_type": "code",
   "execution_count": 98,
   "metadata": {
    "ExecuteTime": {
     "end_time": "2019-08-12T16:55:37.667524Z",
     "start_time": "2019-08-12T16:55:37.662537Z"
    }
   },
   "outputs": [
    {
     "data": {
      "text/plain": [
       "array([[5375,    1,   15,    9,   10,   38,   42,    9,   39,    4],\n",
       "       [   1, 6012,   39,   27,    5,   45,    7,   10,  118,    6],\n",
       "       [  49,   29, 5003,   93,   82,   25,   78,   58,  178,   16],\n",
       "       [  43,   34,  116, 4980,    3,  222,   32,   49,  137,   76],\n",
       "       [  16,   22,   33,    8, 5052,    8,   42,   28,   83,  186],\n",
       "       [  61,   29,   29,  180,   65, 4311,   99,   38,  171,   85],\n",
       "       [  32,   21,   49,    2,   40,   92, 5204,    4,   36,    2],\n",
       "       [  21,   24,   63,   34,   51,   10,    4, 5403,   17,  212],\n",
       "       [  40,  119,   68,  147,   19,  143,   45,   25, 4746,  117],\n",
       "       [  50,   29,   20,   76,  142,   37,    3,  189,   83, 4920]],\n",
       "      dtype=int64)"
      ]
     },
     "execution_count": 98,
     "metadata": {},
     "output_type": "execute_result"
    }
   ],
   "source": [
    "C_matrix"
   ]
  },
  {
   "cell_type": "code",
   "execution_count": 107,
   "metadata": {
    "ExecuteTime": {
     "end_time": "2019-08-12T16:57:32.901390Z",
     "start_time": "2019-08-12T16:57:32.747712Z"
    }
   },
   "outputs": [
    {
     "data": {
      "image/png": "[encoded data removed]",
      "text/plain": [
       "<Figure size 432x288 with 2 Axes>"
      ]
     },
     "metadata": {
      "needs_background": "light"
     },
     "output_type": "display_data"
    }
   ],
   "source": [
    "pl=plt.imshow(C_matrix)\n",
    "plt.colorbar(pl)\n",
    "plt.show()"
   ]
  },
  {
   "cell_type": "code",
   "execution_count": 103,
   "metadata": {
    "ExecuteTime": {
     "end_time": "2019-08-12T16:57:00.208356Z",
     "start_time": "2019-08-12T16:57:00.204400Z"
    }
   },
   "outputs": [],
   "source": [
    "row_sums = C_matrix.sum(axis=1, keepdims=True)"
   ]
  },
  {
   "cell_type": "code",
   "execution_count": 109,
   "metadata": {
    "ExecuteTime": {
     "end_time": "2019-08-12T16:57:52.230742Z",
     "start_time": "2019-08-12T16:57:52.226744Z"
    }
   },
   "outputs": [],
   "source": [
    "norm_conf_mx = C_matrix / row_sums"
   ]
  },
  {
   "cell_type": "code",
   "execution_count": 111,
   "metadata": {
    "ExecuteTime": {
     "end_time": "2019-08-12T16:57:58.955393Z",
     "start_time": "2019-08-12T16:57:58.806508Z"
    }
   },
   "outputs": [
    {
     "data": {
      "image/png": "[encoded data removed]",
      "text/plain": [
       "<Figure size 432x288 with 2 Axes>"
      ]
     },
     "metadata": {
      "needs_background": "light"
     },
     "output_type": "display_data"
    }
   ],
   "source": [
    "pl=plt.imshow(norm_conf_mx)\n",
    "plt.colorbar(pl)\n",
    "plt.show()"
   ]
  },
  {
   "cell_type": "code",
   "execution_count": 113,
   "metadata": {
    "ExecuteTime": {
     "end_time": "2019-08-12T16:59:37.338539Z",
     "start_time": "2019-08-12T16:59:37.170461Z"
    }
   },
   "outputs": [
    {
     "data": {
      "image/png": "[encoded data removed]",
      "text/plain": [
       "<Figure size 432x288 with 2 Axes>"
      ]
     },
     "metadata": {
      "needs_background": "light"
     },
     "output_type": "display_data"
    }
   ],
   "source": [
    "np.fill_diagonal(norm_conf_mx, 0)\n",
    "pl=plt.imshow(norm_conf_mx)\n",
    "plt.colorbar(pl)\n",
    "plt.show()"
   ]
  },
  {
   "cell_type": "code",
   "execution_count": 205,
   "metadata": {
    "ExecuteTime": {
     "end_time": "2019-08-12T17:14:58.350017Z",
     "start_time": "2019-08-12T17:14:58.342011Z"
    }
   },
   "outputs": [],
   "source": [
    "def plot_digits(data,images_per_row,fig):\n",
    "\n",
    "    for i in range(images_per_row):\n",
    "        for j in range(images_per_row):\n",
    "            test=data[5*i+j].reshape(28,28)\n",
    "            ax=fig.add_subplot(5,5,5*i+j+1)\n",
    "            ax.set_axis_off()\n",
    "            ax.imshow(test)\n",
    "    plt.show()"
   ]
  },
  {
   "cell_type": "code",
   "execution_count": 206,
   "metadata": {
    "ExecuteTime": {
     "end_time": "2019-08-12T17:15:02.072434Z",
     "start_time": "2019-08-12T17:14:58.742989Z"
    },
    "scrolled": false
   },
   "outputs": [
    {
     "data": {
      "image/png": "[encoded data removed]",
      "text/plain": [
       "<Figure size 576x576 with 25 Axes>"
      ]
     },
     "metadata": {
      "needs_background": "light"
     },
     "output_type": "display_data"
    },
    {
     "data": {
      "image/png": "[encoded data removed]",
      "text/plain": [
       "<Figure size 576x576 with 25 Axes>"
      ]
     },
     "metadata": {
      "needs_background": "light"
     },
     "output_type": "display_data"
    },
    {
     "data": {
      "image/png": "[encoded data removed]",
      "text/plain": [
       "<Figure size 576x576 with 25 Axes>"
      ]
     },
     "metadata": {
      "needs_background": "light"
     },
     "output_type": "display_data"
    },
    {
     "data": {
      "image/png": "[encoded data removed]",
      "text/plain": [
       "<Figure size 576x576 with 25 Axes>"
      ]
     },
     "metadata": {
      "needs_background": "light"
     },
     "output_type": "display_data"
    }
   ],
   "source": [
    "cl_a, cl_b = 3, 5\n",
    "X_aa = X_train[(y_train == cl_a) & (y_train_pred == cl_a)]\n",
    "X_ab = X_train[(y_train == cl_a) & (y_train_pred == cl_b)]\n",
    "X_ba = X_train[(y_train == cl_b) & (y_train_pred == cl_a)]\n",
    "X_bb = X_train[(y_train == cl_b) & (y_train_pred == cl_b)]\n",
    "\n",
    "for data in [X_aa[:25],X_ab[:25],X_ba[:25],X_bb[:25]]:\n",
    "\n",
    "    fig=plt.figure(figsize=(8,8))\n",
    "    plot_digits(data,5,fig)"
   ]
  }
 ],
 "metadata": {
  "author": "",
  "kernelspec": {
   "display_name": "Python 3",
   "language": "python",
   "name": "python3"
  },
  "language_info": {
   "codemirror_mode": {
    "name": "ipython",
    "version": 3
   },
   "file_extension": ".py",
   "mimetype": "text/x-python",
   "name": "python",
   "nbconvert_exporter": "python",
   "pygments_lexer": "ipython3",
   "version": "3.7.1"
  },
  "latex_envs": {
   "LaTeX_envs_menu_present": true,
   "autoclose": true,
   "autocomplete": true,
   "bibliofile": "biblio.bib",
   "cite_by": "apalike",
   "current_citInitial": 1,
   "eqLabelWithNumbers": true,
   "eqNumInitial": 1,
   "hotkeys": {
    "equation": "Ctrl-E",
    "itemize": "Ctrl-I"
   },
   "labels_anchors": false,
   "latex_user_defs": false,
   "report_style_numbering": true,
   "user_envs_cfg": false
  },
  "nbTranslate": {
   "displayLangs": [
    "*"
   ],
   "hotkey": "alt-t",
   "langInMainMenu": true,
   "sourceLang": "en",
   "targetLang": "fr",
   "useGoogleTranslate": true
  },
  "toc": {
   "base_numbering": 1,
   "nav_menu": {},
   "number_sections": true,
   "sideBar": true,
   "skip_h1_title": false,
   "title_cell": "Table of Contents",
   "title_sidebar": "Contents",
   "toc_cell": false,
   "toc_position": {},
   "toc_section_display": true,
   "toc_window_display": false
  },
  "varInspector": {
   "cols": {
    "lenName": 16,
    "lenType": 16,
    "lenVar": 40
   },
   "kernels_config": {
    "python": {
     "delete_cmd_postfix": "",
     "delete_cmd_prefix": "del ",
     "library": "var_list.py",
     "varRefreshCmd": "print(var_dic_list())"
    },
    "r": {
     "delete_cmd_postfix": ") ",
     "delete_cmd_prefix": "rm(",
     "library": "var_list.r",
     "varRefreshCmd": "cat(var_dic_list()) "
    }
   },
   "types_to_exclude": [
    "module",
    "function",
    "builtin_function_or_method",
    "instance",
    "_Feature"
   ],
   "window_display": false
  }
 },
 "nbformat": 4,
 "nbformat_minor": 2
}
